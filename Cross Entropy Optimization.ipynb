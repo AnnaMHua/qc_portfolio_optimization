{
 "cells": [
  {
   "cell_type": "code",
   "execution_count": 2,
   "metadata": {},
   "outputs": [],
   "source": [
    "import numpy as np"
   ]
  },
  {
   "cell_type": "markdown",
   "metadata": {},
   "source": [
    "# Importance Sampling \n",
    "\n",
    "\n",
    "The expectation value of a function $H({\\bf x})$ is defined as\n",
    "\n",
    "$$\n",
    "\\begin{align}\n",
    "L = \\int d{\\bf x} H({\\bf x}) f({\\bf x; u}) \\equiv \\langle H({\\bf x})\\rangle_{f},\n",
    "\\end{align}\n",
    "$$\n",
    "\n",
    "where $f({\\bf x})$ is the probability distribution. The simple trick for importance sampling is the re-write of the previous expectation value as \n",
    "\\begin{align}\n",
    "L &= \\int d{\\bf x} H({\\bf x}) \\frac{f({\\bf x; u})}{g({\\bf x})} g({\\bf x}) \\\\\n",
    "  &=  \\int d{\\bf x} H({\\bf x}) w(x) g({\\bf x}) \\\\\n",
    "  &\\equiv \\langle H({\\bf x})\\rangle_{g}.\n",
    "\\end{align}\n",
    "\n",
    "The variance of this estimate is given by the integral\n",
    "\\begin{align}\n",
    "\\sigma^2_L = \\int d{\\bf x} \\left( w(x)H(x)-\\mu \\right)^2 g(x),\n",
    "\\end{align}\n",
    "where $\\mu$ is the expectation value of the function $H(x)$. Minimizing the variance of this expression with respect to $w(x)$, we get\n",
    "\n",
    "\\begin{align}\n",
    "\\frac{d\\sigma^2_L}{dw} = 0 &= \\int d{\\bf x} \\left( w(x)H(x)-\\mu \\right)H(x)\\delta(x-y)  g(x) \\\\\n",
    "&\\Rightarrow \\\\\n",
    "w(y) &= \\frac{\\mu}{H(y)}\n",
    "\\end{align}\n",
    "\n",
    "Re-writing $w(y)$ in terms of $f$ and $g$ gives,\n",
    "\n",
    "\\begin{align}\n",
    "g^*({\\bf y}) = \\frac{H({\\bf y})f({\\bf y; u})}{\\mu}.\n",
    "\\end{align}\n",
    "\n",
    "\n",
    "This last expression for $g^*$ represents the optimal choice of the importance sampling function $g$. In otherwords, if we want to find the best function $g({\\bf y})$ to carry out importance sampling, we must choose $g=g^*$ given above.\n"
   ]
  },
  {
   "cell_type": "markdown",
   "metadata": {},
   "source": [
    "# Cross Entropy Estimation\n",
    "\n",
    "\n",
    "Let us return to the problem of estimating the following integral\n",
    "\n",
    "\\begin{align}\n",
    "L = \\int d{\\bf x} H({\\bf x}) f({\\bf x; u}) \\equiv \\langle H({\\bf x})\\rangle_{f}\n",
    "\\end{align}\n",
    "\n",
    "we know that the best importance sampling function to use is\n",
    "\n",
    "\\begin{align}\n",
    "g^*(x) = \\frac{H(x)f(x;u)}{\\mu}.\n",
    "\\end{align}\n",
    "\n",
    "Instead of using this function directly with the unknown parameter $\\mu$, we choose instead to approximate the function $g^*(x)$ using our parametrized function f({\\bf x;v}). This can be carried out using the Kullback-Leibler divergence\n",
    "\n",
    "\\begin{align}\n",
    "D(g^*,f(x,v)) = \\int dx \\ g^*(x) {\\rm ln}(g^*(x)) - \\int dx \\ g^*(x) {\\rm ln}(f(x,v)).\n",
    "\\end{align}\n",
    "\n",
    "The above expression vanishes when the two functions $g^*$ and $f$ are qual. To minimize the above expression in terms of the parameter ${\\bf v}$, we must maximize the expression\n",
    "\\begin{align}\n",
    "D({\\bf v}) &= \\int dx \\ g^*({\\bf x}) {\\rm ln}(f({\\bf x; v})),\\\\\n",
    " &= \\frac{1}{\\mu}\\int dx \\ H({\\bf x}) f({\\bf x; u}) {\\rm ln}(f({\\bf x; v})),\\\\\n",
    "  &= \\frac{1}{\\mu}\\int dx \\ H({\\bf x}) \\frac{f({\\bf x; u})}{f({\\bf x,w})} {\\rm ln}(f({\\bf x; v})) f({\\bf x,w}),\\\\\n",
    "  &= \\frac{1}{\\mu}\\int dx \\ H({\\bf x}) w({\\bf x;u,w}) {\\rm ln}(f({\\bf x; v})) f({\\bf x,w}),\n",
    "\\end{align}\n",
    "\n",
    "\n",
    "## Using Cross Entropy for Optimization\n",
    "\n",
    "Having described in\n",
    "\n",
    "\n",
    "#### References "
   ]
  },
  {
   "cell_type": "code",
   "execution_count": null,
   "metadata": {},
   "outputs": [],
   "source": []
  }
 ],
 "metadata": {
  "kernelspec": {
   "display_name": "cirq",
   "language": "python",
   "name": "cirq"
  },
  "language_info": {
   "codemirror_mode": {
    "name": "ipython",
    "version": 3
   },
   "file_extension": ".py",
   "mimetype": "text/x-python",
   "name": "python",
   "nbconvert_exporter": "python",
   "pygments_lexer": "ipython3",
   "version": "3.7.5"
  }
 },
 "nbformat": 4,
 "nbformat_minor": 4
}

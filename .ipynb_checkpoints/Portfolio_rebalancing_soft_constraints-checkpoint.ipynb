{
 "cells": [
  {
   "cell_type": "code",
   "execution_count": 1,
   "metadata": {},
   "outputs": [],
   "source": [
    "import cirq\n",
    "from cirq.contrib.svg import SVGCircuit\n",
    "import sympy\n",
    "import numpy as np\n",
    "%matplotlib inline\n",
    "import matplotlib.pyplot as plt"
   ]
  },
  {
   "cell_type": "markdown",
   "metadata": {},
   "source": [
    "# The Portfolio Rebalancing Optimization using QAOA with soft constraints"
   ]
  },
  {
   "cell_type": "markdown",
   "metadata": {},
   "source": [
    "In this notebook, we will apply the QAOA algorithm to solve the portfolio optimization problem using a soft constraint\n",
    "\n",
    "\n",
    "$$\n",
    "C_{RR}({\\bf z}) = \\sum_i (1-\\lambda) r_i z_i - \\lambda\\sum_{ij} \\sigma_{ij} z_i z_j\n",
    "$$\n",
    "\n",
    "$$\n",
    "C_{TC}({\\bf z}) = \\sum_i T (1- \\delta(z-y))\n",
    "$$\n",
    "\n",
    "\n",
    "The soft constraint that we impose will be given \n",
    "\n",
    "$$\n",
    "H =C_{RR}({\\bf z})+C_{TC}({\\bf z})+A\\left(D-\\sum_i z_i \\right)^2\n",
    "$$"
   ]
  },
  {
   "cell_type": "markdown",
   "metadata": {},
   "source": [
    "# Generate the inital ground state wave function of the reference Hamiltonian"
   ]
  },
  {
   "cell_type": "code",
   "execution_count": 11,
   "metadata": {},
   "outputs": [
    {
     "name": "stdout",
     "output_type": "stream",
     "text": [
      "[(0, 1), (2, 3), (4, 5), (6, 7)]\n",
      "\n",
      "[cirq.LineQubit(0), cirq.LineQubit(1), cirq.LineQubit(2), cirq.LineQubit(3), cirq.LineQubit(4), cirq.LineQubit(5), cirq.LineQubit(6), cirq.LineQubit(7)]\n"
     ]
    },
    {
     "data": {
      "image/svg+xml": [
       "<svg xmlns=\"http://www.w3.org/2000/svg\" width=\"220.0\" height=\"400.0\"><line x1=\"30.0\" x2=\"190.0\" y1=\"25.0\" y2=\"25.0\" stroke=\"#1967d2\" stroke-width=\"1\" /><line x1=\"30.0\" x2=\"190.0\" y1=\"75.0\" y2=\"75.0\" stroke=\"#1967d2\" stroke-width=\"1\" /><line x1=\"30.0\" x2=\"190.0\" y1=\"125.0\" y2=\"125.0\" stroke=\"#1967d2\" stroke-width=\"1\" /><line x1=\"30.0\" x2=\"190.0\" y1=\"175.0\" y2=\"175.0\" stroke=\"#1967d2\" stroke-width=\"1\" /><line x1=\"30.0\" x2=\"190.0\" y1=\"225.0\" y2=\"225.0\" stroke=\"#1967d2\" stroke-width=\"1\" /><line x1=\"30.0\" x2=\"190.0\" y1=\"275.0\" y2=\"275.0\" stroke=\"#1967d2\" stroke-width=\"1\" /><line x1=\"30.0\" x2=\"190.0\" y1=\"325.0\" y2=\"325.0\" stroke=\"#1967d2\" stroke-width=\"1\" /><line x1=\"30.0\" x2=\"190.0\" y1=\"375.0\" y2=\"375.0\" stroke=\"#1967d2\" stroke-width=\"1\" /><rect x=\"10.0\" y=\"5.0\" width=\"40\" height=\"40\" stroke=\"black\" fill=\"white\" stroke-width=\"0\" /><text x=\"30.0\" y=\"25.0\" dominant-baseline=\"middle\" text-anchor=\"middle\" font-size=\"14px\">0: </text><rect x=\"10.0\" y=\"55.0\" width=\"40\" height=\"40\" stroke=\"black\" fill=\"white\" stroke-width=\"0\" /><text x=\"30.0\" y=\"75.0\" dominant-baseline=\"middle\" text-anchor=\"middle\" font-size=\"14px\">1: </text><rect x=\"10.0\" y=\"105.0\" width=\"40\" height=\"40\" stroke=\"black\" fill=\"white\" stroke-width=\"0\" /><text x=\"30.0\" y=\"125.0\" dominant-baseline=\"middle\" text-anchor=\"middle\" font-size=\"14px\">2: </text><rect x=\"10.0\" y=\"155.0\" width=\"40\" height=\"40\" stroke=\"black\" fill=\"white\" stroke-width=\"0\" /><text x=\"30.0\" y=\"175.0\" dominant-baseline=\"middle\" text-anchor=\"middle\" font-size=\"14px\">3: </text><rect x=\"10.0\" y=\"205.0\" width=\"40\" height=\"40\" stroke=\"black\" fill=\"white\" stroke-width=\"0\" /><text x=\"30.0\" y=\"225.0\" dominant-baseline=\"middle\" text-anchor=\"middle\" font-size=\"14px\">4: </text><rect x=\"10.0\" y=\"255.0\" width=\"40\" height=\"40\" stroke=\"black\" fill=\"white\" stroke-width=\"0\" /><text x=\"30.0\" y=\"275.0\" dominant-baseline=\"middle\" text-anchor=\"middle\" font-size=\"14px\">5: </text><rect x=\"10.0\" y=\"305.0\" width=\"40\" height=\"40\" stroke=\"black\" fill=\"white\" stroke-width=\"0\" /><text x=\"30.0\" y=\"325.0\" dominant-baseline=\"middle\" text-anchor=\"middle\" font-size=\"14px\">6: </text><rect x=\"10.0\" y=\"355.0\" width=\"40\" height=\"40\" stroke=\"black\" fill=\"white\" stroke-width=\"0\" /><text x=\"30.0\" y=\"375.0\" dominant-baseline=\"middle\" text-anchor=\"middle\" font-size=\"14px\">7: </text><rect x=\"70.0\" y=\"5.0\" width=\"40\" height=\"40\" stroke=\"black\" fill=\"white\" stroke-width=\"1\" /><text x=\"90.0\" y=\"25.0\" dominant-baseline=\"middle\" text-anchor=\"middle\" font-size=\"18px\">H</text><rect x=\"70.0\" y=\"55.0\" width=\"40\" height=\"40\" stroke=\"black\" fill=\"white\" stroke-width=\"1\" /><text x=\"90.0\" y=\"75.0\" dominant-baseline=\"middle\" text-anchor=\"middle\" font-size=\"18px\">H</text><rect x=\"70.0\" y=\"105.0\" width=\"40\" height=\"40\" stroke=\"black\" fill=\"white\" stroke-width=\"1\" /><text x=\"90.0\" y=\"125.0\" dominant-baseline=\"middle\" text-anchor=\"middle\" font-size=\"18px\">H</text><rect x=\"70.0\" y=\"155.0\" width=\"40\" height=\"40\" stroke=\"black\" fill=\"white\" stroke-width=\"1\" /><text x=\"90.0\" y=\"175.0\" dominant-baseline=\"middle\" text-anchor=\"middle\" font-size=\"18px\">H</text><rect x=\"70.0\" y=\"205.0\" width=\"40\" height=\"40\" stroke=\"black\" fill=\"white\" stroke-width=\"1\" /><text x=\"90.0\" y=\"225.0\" dominant-baseline=\"middle\" text-anchor=\"middle\" font-size=\"18px\">H</text><rect x=\"70.0\" y=\"255.0\" width=\"40\" height=\"40\" stroke=\"black\" fill=\"white\" stroke-width=\"1\" /><text x=\"90.0\" y=\"275.0\" dominant-baseline=\"middle\" text-anchor=\"middle\" font-size=\"18px\">H</text><rect x=\"70.0\" y=\"305.0\" width=\"40\" height=\"40\" stroke=\"black\" fill=\"white\" stroke-width=\"1\" /><text x=\"90.0\" y=\"325.0\" dominant-baseline=\"middle\" text-anchor=\"middle\" font-size=\"18px\">H</text><rect x=\"70.0\" y=\"355.0\" width=\"40\" height=\"40\" stroke=\"black\" fill=\"white\" stroke-width=\"1\" /><text x=\"90.0\" y=\"375.0\" dominant-baseline=\"middle\" text-anchor=\"middle\" font-size=\"18px\">H</text><rect x=\"130.0\" y=\"5.0\" width=\"40\" height=\"40\" stroke=\"black\" fill=\"white\" stroke-width=\"1\" /><text x=\"150.0\" y=\"25.0\" dominant-baseline=\"middle\" text-anchor=\"middle\" font-size=\"18px\">M</text><rect x=\"130.0\" y=\"55.0\" width=\"40\" height=\"40\" stroke=\"black\" fill=\"white\" stroke-width=\"1\" /><text x=\"150.0\" y=\"75.0\" dominant-baseline=\"middle\" text-anchor=\"middle\" font-size=\"18px\">M</text><rect x=\"130.0\" y=\"105.0\" width=\"40\" height=\"40\" stroke=\"black\" fill=\"white\" stroke-width=\"1\" /><text x=\"150.0\" y=\"125.0\" dominant-baseline=\"middle\" text-anchor=\"middle\" font-size=\"18px\">M</text><rect x=\"130.0\" y=\"155.0\" width=\"40\" height=\"40\" stroke=\"black\" fill=\"white\" stroke-width=\"1\" /><text x=\"150.0\" y=\"175.0\" dominant-baseline=\"middle\" text-anchor=\"middle\" font-size=\"18px\">M</text><rect x=\"130.0\" y=\"205.0\" width=\"40\" height=\"40\" stroke=\"black\" fill=\"white\" stroke-width=\"1\" /><text x=\"150.0\" y=\"225.0\" dominant-baseline=\"middle\" text-anchor=\"middle\" font-size=\"18px\">M</text><rect x=\"130.0\" y=\"255.0\" width=\"40\" height=\"40\" stroke=\"black\" fill=\"white\" stroke-width=\"1\" /><text x=\"150.0\" y=\"275.0\" dominant-baseline=\"middle\" text-anchor=\"middle\" font-size=\"18px\">M</text><rect x=\"130.0\" y=\"305.0\" width=\"40\" height=\"40\" stroke=\"black\" fill=\"white\" stroke-width=\"1\" /><text x=\"150.0\" y=\"325.0\" dominant-baseline=\"middle\" text-anchor=\"middle\" font-size=\"18px\">M</text><rect x=\"130.0\" y=\"355.0\" width=\"40\" height=\"40\" stroke=\"black\" fill=\"white\" stroke-width=\"1\" /><text x=\"150.0\" y=\"375.0\" dominant-baseline=\"middle\" text-anchor=\"middle\" font-size=\"18px\">M</text></svg>"
      ],
      "text/plain": [
       "<cirq.contrib.svg.svg.SVGCircuit at 0x7f1650fae150>"
      ]
     },
     "execution_count": 11,
     "metadata": {},
     "output_type": "execute_result"
    }
   ],
   "source": [
    "# Choose the number of portfolios to optimize\n",
    "N = 4\n",
    "\n",
    "# Define the transaction cost\n",
    "T = sympy.symbols(\"T\")\n",
    "D = sympy.symbols(\"D\")\n",
    "A = sympy.symbols(\"A\")\n",
    "\n",
    "# Define our previous holdings\n",
    "y = np.zeros(N)\n",
    "\n",
    "# Define qubits on the grid.\n",
    "qubits = [cirq.LineQubit(i) for i in range(2*N)]\n",
    "\n",
    "# Define the indices that we will use\n",
    "index_grid_pair = [(2*i,2*i+1) for i in range(0,N) ]\n",
    "\n",
    "print(index_grid_pair)\n",
    "print()\n",
    "\n",
    "# Next we take these quibits which are in states |0> and apply a Hadamard gate to each one.\n",
    "# this generates the eigenvectors of the reference Hamiltonian\n",
    "\n",
    "print(qubits)\n",
    "\n",
    "hadamard_operators = [cirq.H(qubits[i]) for i in range(len(qubits))]\n",
    "measurements = cirq.Moment([cirq.measure(qubits[i],key=str(i)) for i in range(len(qubits))])\n",
    "\n",
    "\n",
    "# Create the circuit from this \n",
    "circuit = cirq.Circuit((hadamard_operators,measurements))\n",
    "\n",
    "#print(circuit)\n",
    "SVGCircuit(circuit)\n"
   ]
  },
  {
   "cell_type": "markdown",
   "metadata": {},
   "source": [
    "# Implementation of the mixing operator\n",
    "\n",
    "We have generated the ground state wave function of the reference Hamiltonian. Now, we need to construc the Unitary operator $U({\\beta})$ that represents the time evolution operator \n",
    "\n",
    "$$\n",
    "\\begin{align}\n",
    "U({\\bf \\beta}) &= e^{-i\\beta B}, \\\\\n",
    "B &= \\sum_{i} X_i.\n",
    "\\end{align}\n",
    "$$\n",
    "\n",
    "In the `cirq` api, this operator is implemented as \n",
    "\n",
    "$$\n",
    "\\text{cirq.rx} \\equiv e^{-i X \\beta / 2}.\n",
    "$$\n",
    "\n"
   ]
  },
  {
   "cell_type": "code",
   "execution_count": 4,
   "metadata": {},
   "outputs": [
    {
     "data": {
      "image/svg+xml": [
       "<svg xmlns=\"http://www.w3.org/2000/svg\" width=\"317.06109375\" height=\"400.0\"><line x1=\"30.0\" x2=\"287.06109375\" y1=\"25.0\" y2=\"25.0\" stroke=\"#1967d2\" stroke-width=\"1\" /><line x1=\"30.0\" x2=\"287.06109375\" y1=\"75.0\" y2=\"75.0\" stroke=\"#1967d2\" stroke-width=\"1\" /><line x1=\"30.0\" x2=\"287.06109375\" y1=\"125.0\" y2=\"125.0\" stroke=\"#1967d2\" stroke-width=\"1\" /><line x1=\"30.0\" x2=\"287.06109375\" y1=\"175.0\" y2=\"175.0\" stroke=\"#1967d2\" stroke-width=\"1\" /><line x1=\"30.0\" x2=\"287.06109375\" y1=\"225.0\" y2=\"225.0\" stroke=\"#1967d2\" stroke-width=\"1\" /><line x1=\"30.0\" x2=\"287.06109375\" y1=\"275.0\" y2=\"275.0\" stroke=\"#1967d2\" stroke-width=\"1\" /><line x1=\"30.0\" x2=\"287.06109375\" y1=\"325.0\" y2=\"325.0\" stroke=\"#1967d2\" stroke-width=\"1\" /><line x1=\"30.0\" x2=\"287.06109375\" y1=\"375.0\" y2=\"375.0\" stroke=\"#1967d2\" stroke-width=\"1\" /><rect x=\"10.0\" y=\"5.0\" width=\"40\" height=\"40\" stroke=\"black\" fill=\"white\" stroke-width=\"0\" /><text x=\"30.0\" y=\"25.0\" dominant-baseline=\"middle\" text-anchor=\"middle\" font-size=\"14px\">0: </text><rect x=\"10.0\" y=\"55.0\" width=\"40\" height=\"40\" stroke=\"black\" fill=\"white\" stroke-width=\"0\" /><text x=\"30.0\" y=\"75.0\" dominant-baseline=\"middle\" text-anchor=\"middle\" font-size=\"14px\">1: </text><rect x=\"10.0\" y=\"105.0\" width=\"40\" height=\"40\" stroke=\"black\" fill=\"white\" stroke-width=\"0\" /><text x=\"30.0\" y=\"125.0\" dominant-baseline=\"middle\" text-anchor=\"middle\" font-size=\"14px\">2: </text><rect x=\"10.0\" y=\"155.0\" width=\"40\" height=\"40\" stroke=\"black\" fill=\"white\" stroke-width=\"0\" /><text x=\"30.0\" y=\"175.0\" dominant-baseline=\"middle\" text-anchor=\"middle\" font-size=\"14px\">3: </text><rect x=\"10.0\" y=\"205.0\" width=\"40\" height=\"40\" stroke=\"black\" fill=\"white\" stroke-width=\"0\" /><text x=\"30.0\" y=\"225.0\" dominant-baseline=\"middle\" text-anchor=\"middle\" font-size=\"14px\">4: </text><rect x=\"10.0\" y=\"255.0\" width=\"40\" height=\"40\" stroke=\"black\" fill=\"white\" stroke-width=\"0\" /><text x=\"30.0\" y=\"275.0\" dominant-baseline=\"middle\" text-anchor=\"middle\" font-size=\"14px\">5: </text><rect x=\"10.0\" y=\"305.0\" width=\"40\" height=\"40\" stroke=\"black\" fill=\"white\" stroke-width=\"0\" /><text x=\"30.0\" y=\"325.0\" dominant-baseline=\"middle\" text-anchor=\"middle\" font-size=\"14px\">6: </text><rect x=\"10.0\" y=\"355.0\" width=\"40\" height=\"40\" stroke=\"black\" fill=\"white\" stroke-width=\"0\" /><text x=\"30.0\" y=\"375.0\" dominant-baseline=\"middle\" text-anchor=\"middle\" font-size=\"14px\">7: </text><rect x=\"70.0\" y=\"5.0\" width=\"40\" height=\"40\" stroke=\"black\" fill=\"white\" stroke-width=\"1\" /><text x=\"90.0\" y=\"25.0\" dominant-baseline=\"middle\" text-anchor=\"middle\" font-size=\"18px\">H</text><rect x=\"70.0\" y=\"55.0\" width=\"40\" height=\"40\" stroke=\"black\" fill=\"white\" stroke-width=\"1\" /><text x=\"90.0\" y=\"75.0\" dominant-baseline=\"middle\" text-anchor=\"middle\" font-size=\"18px\">H</text><rect x=\"70.0\" y=\"105.0\" width=\"40\" height=\"40\" stroke=\"black\" fill=\"white\" stroke-width=\"1\" /><text x=\"90.0\" y=\"125.0\" dominant-baseline=\"middle\" text-anchor=\"middle\" font-size=\"18px\">H</text><rect x=\"70.0\" y=\"155.0\" width=\"40\" height=\"40\" stroke=\"black\" fill=\"white\" stroke-width=\"1\" /><text x=\"90.0\" y=\"175.0\" dominant-baseline=\"middle\" text-anchor=\"middle\" font-size=\"18px\">H</text><rect x=\"70.0\" y=\"205.0\" width=\"40\" height=\"40\" stroke=\"black\" fill=\"white\" stroke-width=\"1\" /><text x=\"90.0\" y=\"225.0\" dominant-baseline=\"middle\" text-anchor=\"middle\" font-size=\"18px\">H</text><rect x=\"70.0\" y=\"255.0\" width=\"40\" height=\"40\" stroke=\"black\" fill=\"white\" stroke-width=\"1\" /><text x=\"90.0\" y=\"275.0\" dominant-baseline=\"middle\" text-anchor=\"middle\" font-size=\"18px\">H</text><rect x=\"70.0\" y=\"305.0\" width=\"40\" height=\"40\" stroke=\"black\" fill=\"white\" stroke-width=\"1\" /><text x=\"90.0\" y=\"325.0\" dominant-baseline=\"middle\" text-anchor=\"middle\" font-size=\"18px\">H</text><rect x=\"70.0\" y=\"355.0\" width=\"40\" height=\"40\" stroke=\"black\" fill=\"white\" stroke-width=\"1\" /><text x=\"90.0\" y=\"375.0\" dominant-baseline=\"middle\" text-anchor=\"middle\" font-size=\"18px\">H</text><rect x=\"130.0\" y=\"5.0\" width=\"77.06109375000001\" height=\"40\" stroke=\"black\" fill=\"white\" stroke-width=\"1\" /><text x=\"168.530546875\" y=\"25.0\" dominant-baseline=\"middle\" text-anchor=\"middle\" font-size=\"14px\">Rx(2*b_0)</text><rect x=\"130.0\" y=\"55.0\" width=\"77.06109375000001\" height=\"40\" stroke=\"black\" fill=\"white\" stroke-width=\"1\" /><text x=\"168.530546875\" y=\"75.0\" dominant-baseline=\"middle\" text-anchor=\"middle\" font-size=\"14px\">Rx(2*b_0)</text><rect x=\"130.0\" y=\"105.0\" width=\"77.06109375000001\" height=\"40\" stroke=\"black\" fill=\"white\" stroke-width=\"1\" /><text x=\"168.530546875\" y=\"125.0\" dominant-baseline=\"middle\" text-anchor=\"middle\" font-size=\"14px\">Rx(2*b_0)</text><rect x=\"130.0\" y=\"155.0\" width=\"77.06109375000001\" height=\"40\" stroke=\"black\" fill=\"white\" stroke-width=\"1\" /><text x=\"168.530546875\" y=\"175.0\" dominant-baseline=\"middle\" text-anchor=\"middle\" font-size=\"14px\">Rx(2*b_0)</text><rect x=\"130.0\" y=\"205.0\" width=\"77.06109375000001\" height=\"40\" stroke=\"black\" fill=\"white\" stroke-width=\"1\" /><text x=\"168.530546875\" y=\"225.0\" dominant-baseline=\"middle\" text-anchor=\"middle\" font-size=\"14px\">Rx(2*b_0)</text><rect x=\"130.0\" y=\"255.0\" width=\"77.06109375000001\" height=\"40\" stroke=\"black\" fill=\"white\" stroke-width=\"1\" /><text x=\"168.530546875\" y=\"275.0\" dominant-baseline=\"middle\" text-anchor=\"middle\" font-size=\"14px\">Rx(2*b_0)</text><rect x=\"130.0\" y=\"305.0\" width=\"77.06109375000001\" height=\"40\" stroke=\"black\" fill=\"white\" stroke-width=\"1\" /><text x=\"168.530546875\" y=\"325.0\" dominant-baseline=\"middle\" text-anchor=\"middle\" font-size=\"14px\">Rx(2*b_0)</text><rect x=\"130.0\" y=\"355.0\" width=\"77.06109375000001\" height=\"40\" stroke=\"black\" fill=\"white\" stroke-width=\"1\" /><text x=\"168.530546875\" y=\"375.0\" dominant-baseline=\"middle\" text-anchor=\"middle\" font-size=\"14px\">Rx(2*b_0)</text><rect x=\"227.06109375\" y=\"5.0\" width=\"40\" height=\"40\" stroke=\"black\" fill=\"white\" stroke-width=\"1\" /><text x=\"247.06109375\" y=\"25.0\" dominant-baseline=\"middle\" text-anchor=\"middle\" font-size=\"18px\">M</text><rect x=\"227.06109375\" y=\"55.0\" width=\"40\" height=\"40\" stroke=\"black\" fill=\"white\" stroke-width=\"1\" /><text x=\"247.06109375\" y=\"75.0\" dominant-baseline=\"middle\" text-anchor=\"middle\" font-size=\"18px\">M</text><rect x=\"227.06109375\" y=\"105.0\" width=\"40\" height=\"40\" stroke=\"black\" fill=\"white\" stroke-width=\"1\" /><text x=\"247.06109375\" y=\"125.0\" dominant-baseline=\"middle\" text-anchor=\"middle\" font-size=\"18px\">M</text><rect x=\"227.06109375\" y=\"155.0\" width=\"40\" height=\"40\" stroke=\"black\" fill=\"white\" stroke-width=\"1\" /><text x=\"247.06109375\" y=\"175.0\" dominant-baseline=\"middle\" text-anchor=\"middle\" font-size=\"18px\">M</text><rect x=\"227.06109375\" y=\"205.0\" width=\"40\" height=\"40\" stroke=\"black\" fill=\"white\" stroke-width=\"1\" /><text x=\"247.06109375\" y=\"225.0\" dominant-baseline=\"middle\" text-anchor=\"middle\" font-size=\"18px\">M</text><rect x=\"227.06109375\" y=\"255.0\" width=\"40\" height=\"40\" stroke=\"black\" fill=\"white\" stroke-width=\"1\" /><text x=\"247.06109375\" y=\"275.0\" dominant-baseline=\"middle\" text-anchor=\"middle\" font-size=\"18px\">M</text><rect x=\"227.06109375\" y=\"305.0\" width=\"40\" height=\"40\" stroke=\"black\" fill=\"white\" stroke-width=\"1\" /><text x=\"247.06109375\" y=\"325.0\" dominant-baseline=\"middle\" text-anchor=\"middle\" font-size=\"18px\">M</text><rect x=\"227.06109375\" y=\"355.0\" width=\"40\" height=\"40\" stroke=\"black\" fill=\"white\" stroke-width=\"1\" /><text x=\"247.06109375\" y=\"375.0\" dominant-baseline=\"middle\" text-anchor=\"middle\" font-size=\"18px\">M</text></svg>"
      ],
      "text/plain": [
       "<cirq.contrib.svg.svg.SVGCircuit at 0x7f16510991d0>"
      ]
     },
     "execution_count": 4,
     "metadata": {},
     "output_type": "execute_result"
    }
   ],
   "source": [
    "# Generate a list of symbolic arguments\n",
    "beta_list = [\"b_\"+str(i) for i in range(1)]\n",
    "\n",
    "# Convert them to symbolic numpy objects\n",
    "betas = sympy.symbols(beta_list)\n",
    "\n",
    "\n",
    "mixer_operators = [cirq.rx(2*betas[0]).on(qubits[i]) for i in range(len(qubits))]\n",
    "\n",
    "# Create the circuit from this \n",
    "circuit = cirq.Circuit((hadamard_operators,mixer_operators,measurements))\n",
    "\n",
    "#print(circuit)\n",
    "\n",
    "SVGCircuit(circuit)"
   ]
  },
  {
   "cell_type": "markdown",
   "metadata": {},
   "source": [
    "# Implementation of the exponential cost-function\n",
    "\n",
    "\n",
    "For the portfolio optimization problem we have that the operator $Z_i$ is the difference between the Pauli-$z$ matrices\n",
    "$$\n",
    "\\begin{align}\n",
    "Z_i = \\frac{1}{2}\\left(z^{+}_{i}-z^{-}_{i} \\right),\n",
    "\\end{align}\n",
    "$$\n",
    "\n",
    "\n",
    "where the $z^+_i$ and $z^-_i$ operate on the $i$-th qubit pair $|q_+,q_- \\rangle$ and $q_{\\pm}=\\lbrace 0,1\\rbrace$\n",
    "\n",
    "$$\n",
    "C_{RR}({\\bf z}) = \\sum_i (1-\\lambda) r_i z_i - \\lambda\\sum_{ij} \\sigma_{ij} z_i z_j\n",
    "$$\n",
    "\n",
    "\n",
    "$$\n",
    "\\begin{align}\n",
    "e^{-i \\gamma C_{RR}(z) } &=   \\rm{Exp}\\left(  i \\gamma (1-\\lambda) \\sum_{k=1} \\mu_k Z_k \\right)  \\rm{Exp}\\left( - i \\lambda \\gamma  \\sum_{ij} \\sigma_{ij} Z_i Z_j \\right) \\\\\n",
    "&=   \\prod_{k=1} \\rm{Exp}\\left( i \\gamma (1-\\lambda) \\mu_k Z_k \\right) \\prod_{ij} \\rm{Exp}\\left( - i \\lambda \\gamma  \\sigma_{ij} Z_i Z_j \\right) \\\\\n",
    "&=   \\prod_{k=1} \\rm{Exp}\\left( i \\gamma (1-\\lambda) \\frac{1}{2} \\mu_k z^{+}_{k} \\right)\\left( i \\gamma (1-\\lambda) \\frac{1}{2} \\mu_k (-z^{-}_{k}) \\right) \\prod_{ij} \\rm{Exp}\\left( - i \\lambda \\frac{1}{4} \\gamma  \\sigma_{ij} \\left(z^{+}_{i}z^{+}_{j}-z^{+}_{i}z^{-}_{j}-z^{-}_{i}z^{+}_{j}+z^{-}_{i}z^{-}_{j} \\right) \\right)\n",
    "\\end{align}\n",
    "$$\n"
   ]
  },
  {
   "cell_type": "code",
   "execution_count": 5,
   "metadata": {},
   "outputs": [
    {
     "data": {
      "image/svg+xml": [
       "<svg xmlns=\"http://www.w3.org/2000/svg\" width=\"538.112421875\" height=\"400.0\"><line x1=\"30.0\" x2=\"508.112421875\" y1=\"25.0\" y2=\"25.0\" stroke=\"#1967d2\" stroke-width=\"1\" /><line x1=\"30.0\" x2=\"508.112421875\" y1=\"75.0\" y2=\"75.0\" stroke=\"#1967d2\" stroke-width=\"1\" /><line x1=\"30.0\" x2=\"508.112421875\" y1=\"125.0\" y2=\"125.0\" stroke=\"#1967d2\" stroke-width=\"1\" /><line x1=\"30.0\" x2=\"508.112421875\" y1=\"175.0\" y2=\"175.0\" stroke=\"#1967d2\" stroke-width=\"1\" /><line x1=\"30.0\" x2=\"508.112421875\" y1=\"225.0\" y2=\"225.0\" stroke=\"#1967d2\" stroke-width=\"1\" /><line x1=\"30.0\" x2=\"508.112421875\" y1=\"275.0\" y2=\"275.0\" stroke=\"#1967d2\" stroke-width=\"1\" /><line x1=\"30.0\" x2=\"508.112421875\" y1=\"325.0\" y2=\"325.0\" stroke=\"#1967d2\" stroke-width=\"1\" /><line x1=\"30.0\" x2=\"508.112421875\" y1=\"375.0\" y2=\"375.0\" stroke=\"#1967d2\" stroke-width=\"1\" /><rect x=\"10.0\" y=\"5.0\" width=\"40\" height=\"40\" stroke=\"black\" fill=\"white\" stroke-width=\"0\" /><text x=\"30.0\" y=\"25.0\" dominant-baseline=\"middle\" text-anchor=\"middle\" font-size=\"14px\">0: </text><rect x=\"10.0\" y=\"55.0\" width=\"40\" height=\"40\" stroke=\"black\" fill=\"white\" stroke-width=\"0\" /><text x=\"30.0\" y=\"75.0\" dominant-baseline=\"middle\" text-anchor=\"middle\" font-size=\"14px\">1: </text><rect x=\"10.0\" y=\"105.0\" width=\"40\" height=\"40\" stroke=\"black\" fill=\"white\" stroke-width=\"0\" /><text x=\"30.0\" y=\"125.0\" dominant-baseline=\"middle\" text-anchor=\"middle\" font-size=\"14px\">2: </text><rect x=\"10.0\" y=\"155.0\" width=\"40\" height=\"40\" stroke=\"black\" fill=\"white\" stroke-width=\"0\" /><text x=\"30.0\" y=\"175.0\" dominant-baseline=\"middle\" text-anchor=\"middle\" font-size=\"14px\">3: </text><rect x=\"10.0\" y=\"205.0\" width=\"40\" height=\"40\" stroke=\"black\" fill=\"white\" stroke-width=\"0\" /><text x=\"30.0\" y=\"225.0\" dominant-baseline=\"middle\" text-anchor=\"middle\" font-size=\"14px\">4: </text><rect x=\"10.0\" y=\"255.0\" width=\"40\" height=\"40\" stroke=\"black\" fill=\"white\" stroke-width=\"0\" /><text x=\"30.0\" y=\"275.0\" dominant-baseline=\"middle\" text-anchor=\"middle\" font-size=\"14px\">5: </text><rect x=\"10.0\" y=\"305.0\" width=\"40\" height=\"40\" stroke=\"black\" fill=\"white\" stroke-width=\"0\" /><text x=\"30.0\" y=\"325.0\" dominant-baseline=\"middle\" text-anchor=\"middle\" font-size=\"14px\">6: </text><rect x=\"10.0\" y=\"355.0\" width=\"40\" height=\"40\" stroke=\"black\" fill=\"white\" stroke-width=\"0\" /><text x=\"30.0\" y=\"375.0\" dominant-baseline=\"middle\" text-anchor=\"middle\" font-size=\"14px\">7: </text><rect x=\"70.0\" y=\"5.0\" width=\"40\" height=\"40\" stroke=\"black\" fill=\"white\" stroke-width=\"1\" /><text x=\"90.0\" y=\"25.0\" dominant-baseline=\"middle\" text-anchor=\"middle\" font-size=\"18px\">H</text><rect x=\"70.0\" y=\"55.0\" width=\"40\" height=\"40\" stroke=\"black\" fill=\"white\" stroke-width=\"1\" /><text x=\"90.0\" y=\"75.0\" dominant-baseline=\"middle\" text-anchor=\"middle\" font-size=\"18px\">H</text><rect x=\"70.0\" y=\"105.0\" width=\"40\" height=\"40\" stroke=\"black\" fill=\"white\" stroke-width=\"1\" /><text x=\"90.0\" y=\"125.0\" dominant-baseline=\"middle\" text-anchor=\"middle\" font-size=\"18px\">H</text><rect x=\"70.0\" y=\"155.0\" width=\"40\" height=\"40\" stroke=\"black\" fill=\"white\" stroke-width=\"1\" /><text x=\"90.0\" y=\"175.0\" dominant-baseline=\"middle\" text-anchor=\"middle\" font-size=\"18px\">H</text><rect x=\"70.0\" y=\"205.0\" width=\"40\" height=\"40\" stroke=\"black\" fill=\"white\" stroke-width=\"1\" /><text x=\"90.0\" y=\"225.0\" dominant-baseline=\"middle\" text-anchor=\"middle\" font-size=\"18px\">H</text><rect x=\"70.0\" y=\"255.0\" width=\"40\" height=\"40\" stroke=\"black\" fill=\"white\" stroke-width=\"1\" /><text x=\"90.0\" y=\"275.0\" dominant-baseline=\"middle\" text-anchor=\"middle\" font-size=\"18px\">H</text><rect x=\"70.0\" y=\"305.0\" width=\"40\" height=\"40\" stroke=\"black\" fill=\"white\" stroke-width=\"1\" /><text x=\"90.0\" y=\"325.0\" dominant-baseline=\"middle\" text-anchor=\"middle\" font-size=\"18px\">H</text><rect x=\"70.0\" y=\"355.0\" width=\"40\" height=\"40\" stroke=\"black\" fill=\"white\" stroke-width=\"1\" /><text x=\"90.0\" y=\"375.0\" dominant-baseline=\"middle\" text-anchor=\"middle\" font-size=\"18px\">H</text><rect x=\"130.0\" y=\"5.0\" width=\"77.06109375000001\" height=\"40\" stroke=\"black\" fill=\"white\" stroke-width=\"1\" /><text x=\"168.530546875\" y=\"25.0\" dominant-baseline=\"middle\" text-anchor=\"middle\" font-size=\"14px\">Rx(2*b_0)</text><rect x=\"130.0\" y=\"55.0\" width=\"77.06109375000001\" height=\"40\" stroke=\"black\" fill=\"white\" stroke-width=\"1\" /><text x=\"168.530546875\" y=\"75.0\" dominant-baseline=\"middle\" text-anchor=\"middle\" font-size=\"14px\">Rx(2*b_0)</text><rect x=\"130.0\" y=\"105.0\" width=\"77.06109375000001\" height=\"40\" stroke=\"black\" fill=\"white\" stroke-width=\"1\" /><text x=\"168.530546875\" y=\"125.0\" dominant-baseline=\"middle\" text-anchor=\"middle\" font-size=\"14px\">Rx(2*b_0)</text><rect x=\"130.0\" y=\"155.0\" width=\"77.06109375000001\" height=\"40\" stroke=\"black\" fill=\"white\" stroke-width=\"1\" /><text x=\"168.530546875\" y=\"175.0\" dominant-baseline=\"middle\" text-anchor=\"middle\" font-size=\"14px\">Rx(2*b_0)</text><rect x=\"130.0\" y=\"205.0\" width=\"77.06109375000001\" height=\"40\" stroke=\"black\" fill=\"white\" stroke-width=\"1\" /><text x=\"168.530546875\" y=\"225.0\" dominant-baseline=\"middle\" text-anchor=\"middle\" font-size=\"14px\">Rx(2*b_0)</text><rect x=\"130.0\" y=\"255.0\" width=\"77.06109375000001\" height=\"40\" stroke=\"black\" fill=\"white\" stroke-width=\"1\" /><text x=\"168.530546875\" y=\"275.0\" dominant-baseline=\"middle\" text-anchor=\"middle\" font-size=\"14px\">Rx(2*b_0)</text><rect x=\"130.0\" y=\"305.0\" width=\"77.06109375000001\" height=\"40\" stroke=\"black\" fill=\"white\" stroke-width=\"1\" /><text x=\"168.530546875\" y=\"325.0\" dominant-baseline=\"middle\" text-anchor=\"middle\" font-size=\"14px\">Rx(2*b_0)</text><rect x=\"130.0\" y=\"355.0\" width=\"77.06109375000001\" height=\"40\" stroke=\"black\" fill=\"white\" stroke-width=\"1\" /><text x=\"168.530546875\" y=\"375.0\" dominant-baseline=\"middle\" text-anchor=\"middle\" font-size=\"14px\">Rx(2*b_0)</text><rect x=\"227.06109375\" y=\"5.0\" width=\"201.05132812500003\" height=\"40\" stroke=\"black\" fill=\"white\" stroke-width=\"1\" /><text x=\"327.5867578125\" y=\"25.0\" dominant-baseline=\"middle\" text-anchor=\"middle\" font-size=\"14px\">Rz(gamma*mu_0*(1 - lam))</text><rect x=\"227.06109375\" y=\"55.0\" width=\"201.05132812500003\" height=\"40\" stroke=\"black\" fill=\"white\" stroke-width=\"1\" /><text x=\"327.5867578125\" y=\"75.0\" dominant-baseline=\"middle\" text-anchor=\"middle\" font-size=\"14px\">Rz(gamma*mu_0*(lam - 1))</text><rect x=\"227.06109375\" y=\"105.0\" width=\"201.05132812500003\" height=\"40\" stroke=\"black\" fill=\"white\" stroke-width=\"1\" /><text x=\"327.5867578125\" y=\"125.0\" dominant-baseline=\"middle\" text-anchor=\"middle\" font-size=\"14px\">Rz(gamma*mu_1*(1 - lam))</text><rect x=\"227.06109375\" y=\"155.0\" width=\"201.05132812500003\" height=\"40\" stroke=\"black\" fill=\"white\" stroke-width=\"1\" /><text x=\"327.5867578125\" y=\"175.0\" dominant-baseline=\"middle\" text-anchor=\"middle\" font-size=\"14px\">Rz(gamma*mu_1*(lam - 1))</text><rect x=\"227.06109375\" y=\"205.0\" width=\"201.05132812500003\" height=\"40\" stroke=\"black\" fill=\"white\" stroke-width=\"1\" /><text x=\"327.5867578125\" y=\"225.0\" dominant-baseline=\"middle\" text-anchor=\"middle\" font-size=\"14px\">Rz(gamma*mu_2*(1 - lam))</text><rect x=\"227.06109375\" y=\"255.0\" width=\"201.05132812500003\" height=\"40\" stroke=\"black\" fill=\"white\" stroke-width=\"1\" /><text x=\"327.5867578125\" y=\"275.0\" dominant-baseline=\"middle\" text-anchor=\"middle\" font-size=\"14px\">Rz(gamma*mu_2*(lam - 1))</text><rect x=\"227.06109375\" y=\"305.0\" width=\"201.05132812500003\" height=\"40\" stroke=\"black\" fill=\"white\" stroke-width=\"1\" /><text x=\"327.5867578125\" y=\"325.0\" dominant-baseline=\"middle\" text-anchor=\"middle\" font-size=\"14px\">Rz(gamma*mu_3*(1 - lam))</text><rect x=\"227.06109375\" y=\"355.0\" width=\"201.05132812500003\" height=\"40\" stroke=\"black\" fill=\"white\" stroke-width=\"1\" /><text x=\"327.5867578125\" y=\"375.0\" dominant-baseline=\"middle\" text-anchor=\"middle\" font-size=\"14px\">Rz(gamma*mu_3*(lam - 1))</text><rect x=\"448.112421875\" y=\"5.0\" width=\"40\" height=\"40\" stroke=\"black\" fill=\"white\" stroke-width=\"1\" /><text x=\"468.112421875\" y=\"25.0\" dominant-baseline=\"middle\" text-anchor=\"middle\" font-size=\"18px\">M</text><rect x=\"448.112421875\" y=\"55.0\" width=\"40\" height=\"40\" stroke=\"black\" fill=\"white\" stroke-width=\"1\" /><text x=\"468.112421875\" y=\"75.0\" dominant-baseline=\"middle\" text-anchor=\"middle\" font-size=\"18px\">M</text><rect x=\"448.112421875\" y=\"105.0\" width=\"40\" height=\"40\" stroke=\"black\" fill=\"white\" stroke-width=\"1\" /><text x=\"468.112421875\" y=\"125.0\" dominant-baseline=\"middle\" text-anchor=\"middle\" font-size=\"18px\">M</text><rect x=\"448.112421875\" y=\"155.0\" width=\"40\" height=\"40\" stroke=\"black\" fill=\"white\" stroke-width=\"1\" /><text x=\"468.112421875\" y=\"175.0\" dominant-baseline=\"middle\" text-anchor=\"middle\" font-size=\"18px\">M</text><rect x=\"448.112421875\" y=\"205.0\" width=\"40\" height=\"40\" stroke=\"black\" fill=\"white\" stroke-width=\"1\" /><text x=\"468.112421875\" y=\"225.0\" dominant-baseline=\"middle\" text-anchor=\"middle\" font-size=\"18px\">M</text><rect x=\"448.112421875\" y=\"255.0\" width=\"40\" height=\"40\" stroke=\"black\" fill=\"white\" stroke-width=\"1\" /><text x=\"468.112421875\" y=\"275.0\" dominant-baseline=\"middle\" text-anchor=\"middle\" font-size=\"18px\">M</text><rect x=\"448.112421875\" y=\"305.0\" width=\"40\" height=\"40\" stroke=\"black\" fill=\"white\" stroke-width=\"1\" /><text x=\"468.112421875\" y=\"325.0\" dominant-baseline=\"middle\" text-anchor=\"middle\" font-size=\"18px\">M</text><rect x=\"448.112421875\" y=\"355.0\" width=\"40\" height=\"40\" stroke=\"black\" fill=\"white\" stroke-width=\"1\" /><text x=\"468.112421875\" y=\"375.0\" dominant-baseline=\"middle\" text-anchor=\"middle\" font-size=\"18px\">M</text></svg>"
      ],
      "text/plain": [
       "<cirq.contrib.svg.svg.SVGCircuit at 0x7f16510a2d10>"
      ]
     },
     "execution_count": 5,
     "metadata": {},
     "output_type": "execute_result"
    }
   ],
   "source": [
    "# Returns\n",
    "mu = sympy.symbols([\"mu_\"+str(k) for k in range(N)])\n",
    "\n",
    "\n",
    "# Convert them to symbolic numpy objects\n",
    "lam,gamma = sympy.symbols(\"lam, gamma\")\n",
    "\n",
    "cost_returns_operators = [cirq.rz((-1)**int(i)*(1-lam)*gamma*mu[int(i/2)]).on(qubits[i]) for i in range(len(qubits))]\n",
    "\n",
    "# Create the circuit from this \n",
    "circuit = cirq.Circuit((hadamard_operators,mixer_operators,cost_returns_operators,measurements))\n",
    "\n",
    "#print(circuit)\n",
    "\n",
    "SVGCircuit(circuit)"
   ]
  },
  {
   "cell_type": "markdown",
   "metadata": {},
   "source": [
    " ## Implementation of $e^{ i \\gamma z_i z_j}$\n",
    " \n",
    "This operator only contributes if $i \\neq j$. If $i=j$ then the operator is simply an overall constant phase that can be ignored. First, we will implement $e^{ i \\gamma \\pi z_i z_j}$ by rescaling the $\\gamma$ parameter. Furthermore, we note that an overall phase factor does not not change the final result when taking expectation values with wavefunctions, so we will remove an $e^{i\\pi\\gamma}$ phase from the implementation of this operator to simplify its decomposition.\n",
    " \n",
    " $$\n",
    " \\begin{align}\n",
    "  \\text{Exp}\\left(i \\pi \\gamma z_i z_j \\right) &= \n",
    " \\begin{bmatrix}\n",
    "   e^{\\left(i \\pi \\gamma   \\right)} & 0 & 0 & 0 \\\\\n",
    "  0 & e^{-\\left(i \\pi \\gamma   \\right)} & 0 & 0 \\\\\n",
    "  0 & 0 & e^{-\\left(i \\pi \\gamma \\right)} & 0 \\\\\n",
    "  0 & 0 & 0 & e^{\\left(i \\pi \\gamma  \\right)}\n",
    "  \\end{bmatrix},\\\\\n",
    "  &= \n",
    " e^{i \\pi \\gamma}\n",
    " \\begin{bmatrix}\n",
    "   1 & 0 & 0 & 0 \\\\\n",
    "  0 & e^{-2\\left(i \\pi \\gamma   \\right)} & 0 & 0 \\\\\n",
    "  0 & 0 & e^{-2\\left(i \\pi \\gamma \\right)} & 0 \\\\\n",
    "  0 & 0 & 0 &1\n",
    "  \\end{bmatrix},\n",
    " \\end{align}\n",
    " $$\n",
    " \n",
    " Now, we note that in `cirq`, the above matrix is implemented as\n",
    " \n",
    " $$\n",
    " \\text{cirq.ZZPowGate}(t) = \n",
    "   \\begin{bmatrix}\n",
    "   1 & 0 & 0 & 0 \\\\\n",
    "  0 & e^{i\\pi t} & 0 & 0 \\\\\n",
    "  0 & 0 &  e^{i\\pi t} & 0 \\\\\n",
    "  0 & 0 & 0 &  1\n",
    "  \\end{bmatrix}.\n",
    " $$\n",
    " \n",
    " \n",
    " For the purposes of implementation also note that\n",
    " \n",
    " $$\n",
    " X_2  \\equiv \\left( I \\otimes X \\right)  = \\begin{bmatrix}\n",
    "  X & {\\bf 0}\\\\\n",
    "  {\\bf 0} & X \n",
    "  \\end{bmatrix}\n",
    "   = \\begin{bmatrix}\n",
    "  0 & 1 & 0& 0\\\\\n",
    "  1 & 0 & 0& 0\\\\\n",
    "  0 & 0 & 0& 1\\\\\n",
    "  0 & 0 & 1& 0\\\\\n",
    "  \\end{bmatrix},\n",
    " $$\n",
    " \n",
    "  $$\n",
    " X_1  \\equiv \\left( X \\otimes I \\right)  = \\begin{bmatrix}\n",
    "  {\\bf 0} & I\\\\\n",
    "  I & {\\bf 0} \n",
    "  \\end{bmatrix}\n",
    "   = \\begin{bmatrix}\n",
    "  0 & 0 & 1& 0\\\\\n",
    "  0 & 0 & 0& 1\\\\\n",
    "  1 & 0 & 0& 0\\\\\n",
    "  0 & 1 & 0& 0\\\\\n",
    "  \\end{bmatrix},\n",
    " $$\n",
    " \n",
    "   $$\n",
    " X_1  X_2 = X_2  X_1 = \\begin{bmatrix}\n",
    "  {\\bf 0} & X\\\\\n",
    "  X & {\\bf 0} \n",
    "  \\end{bmatrix}\n",
    "   = \\begin{bmatrix}\n",
    "  0 & 0 & 0& 1\\\\\n",
    "  0 & 0 & 1& 0\\\\\n",
    "  0 & 1 & 0& 0\\\\\n",
    "  1 & 0 & 0& 0\\\\\n",
    "  \\end{bmatrix}.\n",
    " $$"
   ]
  },
  {
   "cell_type": "markdown",
   "metadata": {},
   "source": [
    "Finally, we arrive at the decomposition of our operator of interest in terms of gate operations\n",
    " \n",
    "$$\n",
    "\\text{Exp}\\left(i \\pi \\gamma z_i z_j \\right) = e^{i\\gamma \\pi}\\text{cirq.ZZPowGate}(-2\\gamma)\n",
    "$$\n",
    " "
   ]
  },
  {
   "cell_type": "code",
   "execution_count": 6,
   "metadata": {},
   "outputs": [
    {
     "name": "stdout",
     "output_type": "stream",
     "text": [
      "[cirq.LineQubit(0), cirq.LineQubit(1), cirq.LineQubit(2), cirq.LineQubit(3), cirq.LineQubit(4), cirq.LineQubit(5), cirq.LineQubit(6), cirq.LineQubit(7)]\n",
      "\n",
      "++ Combinations\n",
      "[(0, 2), (0, 4), (0, 6), (2, 0), (2, 4), (2, 6), (4, 0), (4, 2), (4, 6), (6, 0), (6, 2), (6, 4)]\n",
      "\n",
      "-- Combinations\n",
      "[(1, 3), (1, 5), (1, 7), (3, 1), (3, 5), (3, 7), (5, 1), (5, 3), (5, 7), (7, 1), (7, 3), (7, 5)]\n",
      "\n",
      "+- Combinations\n",
      "[(0, 1), (0, 3), (0, 5), (0, 7), (2, 1), (2, 3), (2, 5), (2, 7), (4, 1), (4, 3), (4, 5), (4, 7), (6, 1), (6, 3), (6, 5), (6, 7)]\n",
      "\n",
      "-+ Combinations\n",
      "[(1, 0), (1, 2), (1, 4), (1, 6), (3, 0), (3, 2), (3, 4), (3, 6), (5, 0), (5, 2), (5, 4), (5, 6), (7, 0), (7, 2), (7, 4), (7, 6)]\n",
      "\n",
      "+- Combinations| Same portfolio\n",
      "[(0, 1), (2, 3), (4, 5), (6, 7)]\n",
      "\\sigma_3_3\n",
      "\n",
      "Example circut for application of Exp(zi zj) \n",
      "\n"
     ]
    },
    {
     "data": {
      "image/svg+xml": [
       "<svg xmlns=\"http://www.w3.org/2000/svg\" width=\"360.92398437500003\" height=\"100.0\"><line x1=\"30.0\" x2=\"330.92398437500003\" y1=\"25.0\" y2=\"25.0\" stroke=\"#1967d2\" stroke-width=\"1\" /><line x1=\"30.0\" x2=\"330.92398437500003\" y1=\"75.0\" y2=\"75.0\" stroke=\"#1967d2\" stroke-width=\"1\" /><line x1=\"190.46199218750002\" x2=\"190.46199218750002\" y1=\"25.0\" y2=\"75.0\" stroke=\"black\" stroke-width=\"3\" /><rect x=\"10.0\" y=\"5.0\" width=\"40\" height=\"40\" stroke=\"black\" fill=\"white\" stroke-width=\"0\" /><text x=\"30.0\" y=\"25.0\" dominant-baseline=\"middle\" text-anchor=\"middle\" font-size=\"14px\">0: </text><rect x=\"10.0\" y=\"55.0\" width=\"40\" height=\"40\" stroke=\"black\" fill=\"white\" stroke-width=\"0\" /><text x=\"30.0\" y=\"75.0\" dominant-baseline=\"middle\" text-anchor=\"middle\" font-size=\"14px\">2: </text><rect x=\"70.0\" y=\"5.0\" width=\"240.92398437500003\" height=\"40\" stroke=\"black\" fill=\"white\" stroke-width=\"1\" /><text x=\"190.46199218750002\" y=\"25.0\" dominant-baseline=\"middle\" text-anchor=\"middle\" font-size=\"14px\">ZZ</text><rect x=\"70.0\" y=\"55.0\" width=\"240.92398437500003\" height=\"40\" stroke=\"black\" fill=\"white\" stroke-width=\"1\" /><text x=\"190.46199218750002\" y=\"75.0\" dominant-baseline=\"middle\" text-anchor=\"middle\" font-size=\"14px\">ZZ^(-\\sigma_1_0*gamma*lam/2)</text></svg>"
      ],
      "text/plain": [
       "<cirq.contrib.svg.svg.SVGCircuit at 0x7f16510791d0>"
      ]
     },
     "execution_count": 6,
     "metadata": {},
     "output_type": "execute_result"
    }
   ],
   "source": [
    "def exp_zz(gamma,qubit1,qubit2):\n",
    "    \"\"\"\n",
    "    Exponentiates the Exp[]\n",
    "    \"\"\"\n",
    "    \n",
    "    #D1 = [ cirq.X.on(qubit2), cirq.CZPowGate(exponent= -2*gamma).on(qubit1,qubit2), cirq.X.on(qubit2)]\n",
    "    #D2 = [ cirq.X.on(qubit1),cirq.X.on(qubit2), cirq.CZPowGate(exponent= -2*gamma).on(qubit1,qubit2),cirq.X.on(qubit1),cirq.X.on(qubit2)]\n",
    "    \n",
    "    #decomposition = D2.append(D1)\n",
    "    \n",
    "    return [cirq.ZZPowGate(exponent= -2*gamma).on(qubit1,qubit2)]\n",
    "\n",
    "\n",
    "\n",
    "def remove_digonal_combinations(combination_list):\n",
    "    \"\"\"\n",
    "    Simple utility function to remove the diagonal combinations from a list\n",
    "    of possible connections\n",
    "    \"\"\"\n",
    "    \n",
    "    purged_list = []\n",
    "    \n",
    "    \n",
    "    for i in range(len(index_grid_pp)):\n",
    "        p1,p2 = combination_list[i]\n",
    "    \n",
    "        if(p1!=p2):\n",
    "            purged_list.append((p1,p2))\n",
    "    \n",
    "    \n",
    "    return purged_list\n",
    "\n",
    "def map_combinations_to_portfolio_index(combination_list):\n",
    "    \n",
    "    \n",
    "    portfolio_index= [ (int(combination_list[i][0]/2), int(combination_list[i][1]/2)) for i in range(len(combination_list))]\n",
    "    \n",
    "    return portfolio_index\n",
    "\n",
    "\n",
    "# Covariance matrix\n",
    "sigma = sympy.symbols([[\"\\sigma_\"+str(i)+\"_\"+str(j) for i in range(N)] for j in range(N)])\n",
    "\n",
    "print(qubits)\n",
    "print()\n",
    "# Define the s^+ , s^- permutations that we will use for summations\n",
    "index_grid_p = [2*i for i in range(0,N)]\n",
    "index_grid_m = [2*i+1 for i in range(0,N)]\n",
    "index_grid_pm = [(2*i,2*j+1) for i in range(0,N) for j in range(0,N) ]\n",
    "index_grid_pm_ii = [(2*i,2*i+1) for i in range(0,N)]\n",
    "index_grid_mp = [(2*i+1,2*j) for i in range(0,N) for j in range(0,N) ]\n",
    "index_grid_pp = [(2*i,2*j) for i in range(0,N) for j in range(0,N)  ]\n",
    "index_grid_mm = [(2*i+1,2*j+1) for i in range(0,N) for j in range(0,N) ]\n",
    "\n",
    "\n",
    "index_grid_pp_offdiagonal  =  remove_digonal_combinations(index_grid_pp)\n",
    "index_grid_mm_offdiagonal  =  remove_digonal_combinations(index_grid_mm)\n",
    "index_grid_pm_offdiagonal  =  remove_digonal_combinations(index_grid_pm)\n",
    "index_grid_mp_offdiagonal  =  remove_digonal_combinations(index_grid_mp)\n",
    "\n",
    "\n",
    "index_grid_pp_portfolio = map_combinations_to_portfolio_index(index_grid_pp_offdiagonal)\n",
    "index_grid_mm_portfolio = map_combinations_to_portfolio_index(index_grid_mm_offdiagonal)\n",
    "index_grid_pm_portfolio = map_combinations_to_portfolio_index(index_grid_pm_offdiagonal)\n",
    "index_grid_mp_portfolio = map_combinations_to_portfolio_index(index_grid_mp_offdiagonal)\n",
    "\n",
    "print(\"++ Combinations\")\n",
    "print(index_grid_pp_offdiagonal)\n",
    "print()\n",
    "print(\"-- Combinations\")\n",
    "print(index_grid_mm_offdiagonal)\n",
    "print()\n",
    "print(\"+- Combinations\")\n",
    "print(index_grid_pm_offdiagonal)\n",
    "print()\n",
    "print(\"-+ Combinations\")\n",
    "print(index_grid_mp_offdiagonal)\n",
    "print()\n",
    "print(\"+- Combinations| Same portfolio\")\n",
    "print(index_grid_pm_ii)\n",
    "\n",
    "\n",
    "k=15\n",
    "print(sigma[int(index_grid_pp[k][0]/2)][int(index_grid_pp[k][1]/2)])\n",
    "\n",
    "pp1,pp2 = index_grid_pp_offdiagonal[0]\n",
    "pp1_portfolio, pp2_portfolio =index_grid_pp_portfolio[0]\n",
    "circuit = cirq.Circuit(exp_zz(gamma*lam/4*sigma[pp1_portfolio][pp2_portfolio],qubit1=qubits[pp1],qubit2=qubits[pp2]))\n",
    "\n",
    "print(\"\")\n",
    "print(\"Example circut for application of Exp(zi zj) \\n\")\n",
    "#print(circuit)\n",
    "SVGCircuit(circuit)\n",
    "#print(\"\")\n"
   ]
  },
  {
   "cell_type": "markdown",
   "metadata": {},
   "source": [
    "# Implementation of of full volatility term\n",
    "\n",
    "\n",
    "$$\n",
    "\\text{Exp}\\left( \\sum_{ij} \\lambda \\sigma_{ij}Z_i Z_j \\right) = \\text{Exp}\\left( \\sum_{ij} \\frac{\\lambda}{4}\\sigma_{ij}\\left(z^{+}_{i} z^{+}_{j}-z^{+}_{i} z^{-}_{j}-z^{-}_{i} z^{+}_{j}+z^{-}_{i} z^{-}_{j} \\right) \\right)\n",
    "$$"
   ]
  },
  {
   "cell_type": "code",
   "execution_count": 7,
   "metadata": {},
   "outputs": [
    {
     "data": {
      "image/svg+xml": [
       "<svg xmlns=\"http://www.w3.org/2000/svg\" width=\"12062.487968750005\" height=\"440.0\"><line x1=\"30.0\" x2=\"12032.487968750005\" y1=\"45.0\" y2=\"45.0\" stroke=\"#1967d2\" stroke-width=\"1\" /><line x1=\"30.0\" x2=\"12032.487968750005\" y1=\"95.0\" y2=\"95.0\" stroke=\"#1967d2\" stroke-width=\"1\" /><line x1=\"30.0\" x2=\"12032.487968750005\" y1=\"145.0\" y2=\"145.0\" stroke=\"#1967d2\" stroke-width=\"1\" /><line x1=\"30.0\" x2=\"12032.487968750005\" y1=\"195.0\" y2=\"195.0\" stroke=\"#1967d2\" stroke-width=\"1\" /><line x1=\"30.0\" x2=\"12032.487968750005\" y1=\"245.0\" y2=\"245.0\" stroke=\"#1967d2\" stroke-width=\"1\" /><line x1=\"30.0\" x2=\"12032.487968750005\" y1=\"295.0\" y2=\"295.0\" stroke=\"#1967d2\" stroke-width=\"1\" /><line x1=\"30.0\" x2=\"12032.487968750005\" y1=\"345.0\" y2=\"345.0\" stroke=\"#1967d2\" stroke-width=\"1\" /><line x1=\"30.0\" x2=\"12032.487968750005\" y1=\"395.0\" y2=\"395.0\" stroke=\"#1967d2\" stroke-width=\"1\" /><line x1=\"10251.382382812504\" x2=\"10733.126835937504\" y1=\"5.0\" y2=\"5.0\" stroke=\"black\" stroke-width=\"1\" /><line x1=\"10251.382382812504\" x2=\"10733.126835937504\" y1=\"435.0\" y2=\"435.0\" stroke=\"black\" stroke-width=\"1\" /><line x1=\"8736.149023437503\" x2=\"9217.893476562504\" y1=\"5.0\" y2=\"5.0\" stroke=\"black\" stroke-width=\"1\" /><line x1=\"8736.149023437503\" x2=\"9217.893476562504\" y1=\"435.0\" y2=\"435.0\" stroke=\"black\" stroke-width=\"1\" /><line x1=\"8008.532343750004\" x2=\"8726.149023437503\" y1=\"5.0\" y2=\"5.0\" stroke=\"black\" stroke-width=\"1\" /><line x1=\"8008.532343750004\" x2=\"8726.149023437503\" y1=\"435.0\" y2=\"435.0\" stroke=\"black\" stroke-width=\"1\" /><line x1=\"7045.043437500003\" x2=\"7998.532343750004\" y1=\"5.0\" y2=\"5.0\" stroke=\"black\" stroke-width=\"1\" /><line x1=\"7045.043437500003\" x2=\"7998.532343750004\" y1=\"435.0\" y2=\"435.0\" stroke=\"black\" stroke-width=\"1\" /><line x1=\"6317.426757812503\" x2=\"7035.043437500003\" y1=\"5.0\" y2=\"5.0\" stroke=\"black\" stroke-width=\"1\" /><line x1=\"6317.426757812503\" x2=\"7035.043437500003\" y1=\"435.0\" y2=\"435.0\" stroke=\"black\" stroke-width=\"1\" /><line x1=\"5825.682304687502\" x2=\"6307.426757812503\" y1=\"5.0\" y2=\"5.0\" stroke=\"black\" stroke-width=\"1\" /><line x1=\"5825.682304687502\" x2=\"6307.426757812503\" y1=\"435.0\" y2=\"435.0\" stroke=\"black\" stroke-width=\"1\" /><line x1=\"5098.065625000002\" x2=\"5815.682304687502\" y1=\"5.0\" y2=\"5.0\" stroke=\"black\" stroke-width=\"1\" /><line x1=\"5098.065625000002\" x2=\"5815.682304687502\" y1=\"435.0\" y2=\"435.0\" stroke=\"black\" stroke-width=\"1\" /><line x1=\"4134.576718750001\" x2=\"5088.065625000002\" y1=\"5.0\" y2=\"5.0\" stroke=\"black\" stroke-width=\"1\" /><line x1=\"4134.576718750001\" x2=\"5088.065625000002\" y1=\"435.0\" y2=\"435.0\" stroke=\"black\" stroke-width=\"1\" /><line x1=\"3406.9600390625014\" x2=\"4124.576718750001\" y1=\"5.0\" y2=\"5.0\" stroke=\"black\" stroke-width=\"1\" /><line x1=\"3406.9600390625014\" x2=\"4124.576718750001\" y1=\"435.0\" y2=\"435.0\" stroke=\"black\" stroke-width=\"1\" /><line x1=\"2910.163828125001\" x2=\"3396.9600390625014\" y1=\"5.0\" y2=\"5.0\" stroke=\"black\" stroke-width=\"1\" /><line x1=\"2910.163828125001\" x2=\"3396.9600390625014\" y1=\"435.0\" y2=\"435.0\" stroke=\"black\" stroke-width=\"1\" /><line x1=\"1364.6199218750003\" x2=\"1856.4678906250006\" y1=\"5.0\" y2=\"5.0\" stroke=\"black\" stroke-width=\"1\" /><line x1=\"1364.6199218750003\" x2=\"1856.4678906250006\" y1=\"435.0\" y2=\"435.0\" stroke=\"black\" stroke-width=\"1\" /><line x1=\"190.46199218750002\" x2=\"190.46199218750002\" y1=\"45.0\" y2=\"145.0\" stroke=\"black\" stroke-width=\"3\" /><line x1=\"451.38597656250005\" x2=\"451.38597656250005\" y1=\"45.0\" y2=\"245.0\" stroke=\"black\" stroke-width=\"3\" /><line x1=\"712.3099609375001\" x2=\"712.3099609375001\" y1=\"45.0\" y2=\"345.0\" stroke=\"black\" stroke-width=\"3\" /><line x1=\"973.2339453125\" x2=\"973.2339453125\" y1=\"45.0\" y2=\"145.0\" stroke=\"black\" stroke-width=\"3\" /><line x1=\"1234.1579296875002\" x2=\"1234.1579296875002\" y1=\"145.0\" y2=\"245.0\" stroke=\"black\" stroke-width=\"3\" /><line x1=\"1485.0819140625003\" x2=\"1485.0819140625003\" y1=\"145.0\" y2=\"345.0\" stroke=\"black\" stroke-width=\"3\" /><line x1=\"1726.0058984375005\" x2=\"1726.0058984375005\" y1=\"45.0\" y2=\"245.0\" stroke=\"black\" stroke-width=\"3\" /><line x1=\"1996.9298828125006\" x2=\"1996.9298828125006\" y1=\"145.0\" y2=\"245.0\" stroke=\"black\" stroke-width=\"3\" /><line x1=\"2257.853867187501\" x2=\"2257.853867187501\" y1=\"245.0\" y2=\"345.0\" stroke=\"black\" stroke-width=\"3\" /><line x1=\"2518.777851562501\" x2=\"2518.777851562501\" y1=\"45.0\" y2=\"345.0\" stroke=\"black\" stroke-width=\"3\" /><line x1=\"2779.701835937501\" x2=\"2779.701835937501\" y1=\"145.0\" y2=\"345.0\" stroke=\"black\" stroke-width=\"3\" /><line x1=\"2779.701835937501\" x2=\"2779.701835937501\" y1=\"45.0\" y2=\"95.0\" stroke=\"black\" stroke-width=\"3\" /><line x1=\"3030.625820312501\" x2=\"3030.625820312501\" y1=\"245.0\" y2=\"345.0\" stroke=\"black\" stroke-width=\"3\" /><line x1=\"3030.625820312501\" x2=\"3030.625820312501\" y1=\"45.0\" y2=\"195.0\" stroke=\"black\" stroke-width=\"3\" /><line x1=\"3269.0239257812514\" x2=\"3269.0239257812514\" y1=\"95.0\" y2=\"145.0\" stroke=\"black\" stroke-width=\"3\" /><line x1=\"3524.8961523437515\" x2=\"3524.8961523437515\" y1=\"45.0\" y2=\"295.0\" stroke=\"black\" stroke-width=\"3\" /><line x1=\"3760.7683789062517\" x2=\"3760.7683789062517\" y1=\"145.0\" y2=\"195.0\" stroke=\"black\" stroke-width=\"3\" /><line x1=\"3996.640605468752\" x2=\"3996.640605468752\" y1=\"95.0\" y2=\"245.0\" stroke=\"black\" stroke-width=\"3\" /><line x1=\"4252.5128320312515\" x2=\"4252.5128320312515\" y1=\"45.0\" y2=\"395.0\" stroke=\"black\" stroke-width=\"3\" /><line x1=\"4488.385058593752\" x2=\"4488.385058593752\" y1=\"145.0\" y2=\"295.0\" stroke=\"black\" stroke-width=\"3\" /><line x1=\"4724.257285156252\" x2=\"4724.257285156252\" y1=\"195.0\" y2=\"245.0\" stroke=\"black\" stroke-width=\"3\" /><line x1=\"4960.129511718752\" x2=\"4960.129511718752\" y1=\"95.0\" y2=\"345.0\" stroke=\"black\" stroke-width=\"3\" /><line x1=\"5216.001738281252\" x2=\"5216.001738281252\" y1=\"145.0\" y2=\"395.0\" stroke=\"black\" stroke-width=\"3\" /><line x1=\"5451.873964843752\" x2=\"5451.873964843752\" y1=\"245.0\" y2=\"295.0\" stroke=\"black\" stroke-width=\"3\" /><line x1=\"5687.746191406252\" x2=\"5687.746191406252\" y1=\"195.0\" y2=\"345.0\" stroke=\"black\" stroke-width=\"3\" /><line x1=\"5216.001738281252\" x2=\"5216.001738281252\" y1=\"45.0\" y2=\"95.0\" stroke=\"black\" stroke-width=\"3\" /><line x1=\"5943.6184179687525\" x2=\"5943.6184179687525\" y1=\"245.0\" y2=\"395.0\" stroke=\"black\" stroke-width=\"3\" /><line x1=\"6179.490644531253\" x2=\"6179.490644531253\" y1=\"295.0\" y2=\"345.0\" stroke=\"black\" stroke-width=\"3\" /><line x1=\"5943.6184179687525\" x2=\"5943.6184179687525\" y1=\"95.0\" y2=\"145.0\" stroke=\"black\" stroke-width=\"3\" /><line x1=\"6179.490644531253\" x2=\"6179.490644531253\" y1=\"45.0\" y2=\"195.0\" stroke=\"black\" stroke-width=\"3\" /><line x1=\"6435.362871093753\" x2=\"6435.362871093753\" y1=\"345.0\" y2=\"395.0\" stroke=\"black\" stroke-width=\"3\" /><line x1=\"6435.362871093753\" x2=\"6435.362871093753\" y1=\"95.0\" y2=\"245.0\" stroke=\"black\" stroke-width=\"3\" /><line x1=\"6671.235097656253\" x2=\"6671.235097656253\" y1=\"145.0\" y2=\"195.0\" stroke=\"black\" stroke-width=\"3\" /><line x1=\"6907.107324218753\" x2=\"6907.107324218753\" y1=\"45.0\" y2=\"295.0\" stroke=\"black\" stroke-width=\"3\" /><line x1=\"7162.979550781253\" x2=\"7162.979550781253\" y1=\"95.0\" y2=\"345.0\" stroke=\"black\" stroke-width=\"3\" /><line x1=\"7398.851777343753\" x2=\"7398.851777343753\" y1=\"195.0\" y2=\"245.0\" stroke=\"black\" stroke-width=\"3\" /><line x1=\"7634.7240039062535\" x2=\"7634.7240039062535\" y1=\"145.0\" y2=\"295.0\" stroke=\"black\" stroke-width=\"3\" /><line x1=\"7870.596230468754\" x2=\"7870.596230468754\" y1=\"45.0\" y2=\"395.0\" stroke=\"black\" stroke-width=\"3\" /><line x1=\"8126.468457031254\" x2=\"8126.468457031254\" y1=\"195.0\" y2=\"345.0\" stroke=\"black\" stroke-width=\"3\" /><line x1=\"8362.340683593753\" x2=\"8362.340683593753\" y1=\"245.0\" y2=\"295.0\" stroke=\"black\" stroke-width=\"3\" /><line x1=\"8598.212910156253\" x2=\"8598.212910156253\" y1=\"145.0\" y2=\"395.0\" stroke=\"black\" stroke-width=\"3\" /><line x1=\"8854.085136718753\" x2=\"8854.085136718753\" y1=\"295.0\" y2=\"345.0\" stroke=\"black\" stroke-width=\"3\" /><line x1=\"9089.957363281253\" x2=\"9089.957363281253\" y1=\"245.0\" y2=\"395.0\" stroke=\"black\" stroke-width=\"3\" /><line x1=\"8854.085136718753\" x2=\"8854.085136718753\" y1=\"95.0\" y2=\"195.0\" stroke=\"black\" stroke-width=\"3\" /><line x1=\"9355.829589843754\" x2=\"9355.829589843754\" y1=\"345.0\" y2=\"395.0\" stroke=\"black\" stroke-width=\"3\" /><line x1=\"9355.829589843754\" x2=\"9355.829589843754\" y1=\"95.0\" y2=\"295.0\" stroke=\"black\" stroke-width=\"3\" /><line x1=\"9611.701816406254\" x2=\"9611.701816406254\" y1=\"95.0\" y2=\"395.0\" stroke=\"black\" stroke-width=\"3\" /><line x1=\"9867.574042968754\" x2=\"9867.574042968754\" y1=\"95.0\" y2=\"195.0\" stroke=\"black\" stroke-width=\"3\" /><line x1=\"10123.446269531254\" x2=\"10123.446269531254\" y1=\"195.0\" y2=\"295.0\" stroke=\"black\" stroke-width=\"3\" /><line x1=\"10369.318496093754\" x2=\"10369.318496093754\" y1=\"195.0\" y2=\"395.0\" stroke=\"black\" stroke-width=\"3\" /><line x1=\"10605.190722656254\" x2=\"10605.190722656254\" y1=\"95.0\" y2=\"295.0\" stroke=\"black\" stroke-width=\"3\" /><line x1=\"10871.062949218755\" x2=\"10871.062949218755\" y1=\"195.0\" y2=\"295.0\" stroke=\"black\" stroke-width=\"3\" /><line x1=\"11126.935175781255\" x2=\"11126.935175781255\" y1=\"295.0\" y2=\"395.0\" stroke=\"black\" stroke-width=\"3\" /><line x1=\"11382.807402343755\" x2=\"11382.807402343755\" y1=\"95.0\" y2=\"395.0\" stroke=\"black\" stroke-width=\"3\" /><line x1=\"11638.679628906255\" x2=\"11638.679628906255\" y1=\"195.0\" y2=\"395.0\" stroke=\"black\" stroke-width=\"3\" /><line x1=\"11894.551855468755\" x2=\"11894.551855468755\" y1=\"295.0\" y2=\"395.0\" stroke=\"black\" stroke-width=\"3\" /><line x1=\"10251.382382812504\" x2=\"10251.382382812504\" y1=\"5.0\" y2=\"15.0\" stroke=\"black\" stroke-width=\"3\" /><line x1=\"10733.126835937504\" x2=\"10733.126835937504\" y1=\"5.0\" y2=\"15.0\" stroke=\"black\" stroke-width=\"3\" /><line x1=\"10251.382382812504\" x2=\"10251.382382812504\" y1=\"425.0\" y2=\"435.0\" stroke=\"black\" stroke-width=\"3\" /><line x1=\"10733.126835937504\" x2=\"10733.126835937504\" y1=\"425.0\" y2=\"435.0\" stroke=\"black\" stroke-width=\"3\" /><line x1=\"8736.149023437503\" x2=\"8736.149023437503\" y1=\"5.0\" y2=\"15.0\" stroke=\"black\" stroke-width=\"3\" /><line x1=\"9217.893476562504\" x2=\"9217.893476562504\" y1=\"5.0\" y2=\"15.0\" stroke=\"black\" stroke-width=\"3\" /><line x1=\"8736.149023437503\" x2=\"8736.149023437503\" y1=\"425.0\" y2=\"435.0\" stroke=\"black\" stroke-width=\"3\" /><line x1=\"9217.893476562504\" x2=\"9217.893476562504\" y1=\"425.0\" y2=\"435.0\" stroke=\"black\" stroke-width=\"3\" /><line x1=\"8008.532343750004\" x2=\"8008.532343750004\" y1=\"5.0\" y2=\"15.0\" stroke=\"black\" stroke-width=\"3\" /><line x1=\"8726.149023437503\" x2=\"8726.149023437503\" y1=\"5.0\" y2=\"15.0\" stroke=\"black\" stroke-width=\"3\" /><line x1=\"8008.532343750004\" x2=\"8008.532343750004\" y1=\"425.0\" y2=\"435.0\" stroke=\"black\" stroke-width=\"3\" /><line x1=\"8726.149023437503\" x2=\"8726.149023437503\" y1=\"425.0\" y2=\"435.0\" stroke=\"black\" stroke-width=\"3\" /><line x1=\"7045.043437500003\" x2=\"7045.043437500003\" y1=\"5.0\" y2=\"15.0\" stroke=\"black\" stroke-width=\"3\" /><line x1=\"7998.532343750004\" x2=\"7998.532343750004\" y1=\"5.0\" y2=\"15.0\" stroke=\"black\" stroke-width=\"3\" /><line x1=\"7045.043437500003\" x2=\"7045.043437500003\" y1=\"425.0\" y2=\"435.0\" stroke=\"black\" stroke-width=\"3\" /><line x1=\"7998.532343750004\" x2=\"7998.532343750004\" y1=\"425.0\" y2=\"435.0\" stroke=\"black\" stroke-width=\"3\" /><line x1=\"6317.426757812503\" x2=\"6317.426757812503\" y1=\"5.0\" y2=\"15.0\" stroke=\"black\" stroke-width=\"3\" /><line x1=\"7035.043437500003\" x2=\"7035.043437500003\" y1=\"5.0\" y2=\"15.0\" stroke=\"black\" stroke-width=\"3\" /><line x1=\"6317.426757812503\" x2=\"6317.426757812503\" y1=\"425.0\" y2=\"435.0\" stroke=\"black\" stroke-width=\"3\" /><line x1=\"7035.043437500003\" x2=\"7035.043437500003\" y1=\"425.0\" y2=\"435.0\" stroke=\"black\" stroke-width=\"3\" /><line x1=\"5825.682304687502\" x2=\"5825.682304687502\" y1=\"5.0\" y2=\"15.0\" stroke=\"black\" stroke-width=\"3\" /><line x1=\"6307.426757812503\" x2=\"6307.426757812503\" y1=\"5.0\" y2=\"15.0\" stroke=\"black\" stroke-width=\"3\" /><line x1=\"5825.682304687502\" x2=\"5825.682304687502\" y1=\"425.0\" y2=\"435.0\" stroke=\"black\" stroke-width=\"3\" /><line x1=\"6307.426757812503\" x2=\"6307.426757812503\" y1=\"425.0\" y2=\"435.0\" stroke=\"black\" stroke-width=\"3\" /><line x1=\"5098.065625000002\" x2=\"5098.065625000002\" y1=\"5.0\" y2=\"15.0\" stroke=\"black\" stroke-width=\"3\" /><line x1=\"5815.682304687502\" x2=\"5815.682304687502\" y1=\"5.0\" y2=\"15.0\" stroke=\"black\" stroke-width=\"3\" /><line x1=\"5098.065625000002\" x2=\"5098.065625000002\" y1=\"425.0\" y2=\"435.0\" stroke=\"black\" stroke-width=\"3\" /><line x1=\"5815.682304687502\" x2=\"5815.682304687502\" y1=\"425.0\" y2=\"435.0\" stroke=\"black\" stroke-width=\"3\" /><line x1=\"4134.576718750001\" x2=\"4134.576718750001\" y1=\"5.0\" y2=\"15.0\" stroke=\"black\" stroke-width=\"3\" /><line x1=\"5088.065625000002\" x2=\"5088.065625000002\" y1=\"5.0\" y2=\"15.0\" stroke=\"black\" stroke-width=\"3\" /><line x1=\"4134.576718750001\" x2=\"4134.576718750001\" y1=\"425.0\" y2=\"435.0\" stroke=\"black\" stroke-width=\"3\" /><line x1=\"5088.065625000002\" x2=\"5088.065625000002\" y1=\"425.0\" y2=\"435.0\" stroke=\"black\" stroke-width=\"3\" /><line x1=\"3406.9600390625014\" x2=\"3406.9600390625014\" y1=\"5.0\" y2=\"15.0\" stroke=\"black\" stroke-width=\"3\" /><line x1=\"4124.576718750001\" x2=\"4124.576718750001\" y1=\"5.0\" y2=\"15.0\" stroke=\"black\" stroke-width=\"3\" /><line x1=\"3406.9600390625014\" x2=\"3406.9600390625014\" y1=\"425.0\" y2=\"435.0\" stroke=\"black\" stroke-width=\"3\" /><line x1=\"4124.576718750001\" x2=\"4124.576718750001\" y1=\"425.0\" y2=\"435.0\" stroke=\"black\" stroke-width=\"3\" /><line x1=\"2910.163828125001\" x2=\"2910.163828125001\" y1=\"5.0\" y2=\"15.0\" stroke=\"black\" stroke-width=\"3\" /><line x1=\"3396.9600390625014\" x2=\"3396.9600390625014\" y1=\"5.0\" y2=\"15.0\" stroke=\"black\" stroke-width=\"3\" /><line x1=\"2910.163828125001\" x2=\"2910.163828125001\" y1=\"425.0\" y2=\"435.0\" stroke=\"black\" stroke-width=\"3\" /><line x1=\"3396.9600390625014\" x2=\"3396.9600390625014\" y1=\"425.0\" y2=\"435.0\" stroke=\"black\" stroke-width=\"3\" /><line x1=\"1364.6199218750003\" x2=\"1364.6199218750003\" y1=\"5.0\" y2=\"15.0\" stroke=\"black\" stroke-width=\"3\" /><line x1=\"1856.4678906250006\" x2=\"1856.4678906250006\" y1=\"5.0\" y2=\"15.0\" stroke=\"black\" stroke-width=\"3\" /><line x1=\"1364.6199218750003\" x2=\"1364.6199218750003\" y1=\"425.0\" y2=\"435.0\" stroke=\"black\" stroke-width=\"3\" /><line x1=\"1856.4678906250006\" x2=\"1856.4678906250006\" y1=\"425.0\" y2=\"435.0\" stroke=\"black\" stroke-width=\"3\" /><rect x=\"10.0\" y=\"25.0\" width=\"40\" height=\"40\" stroke=\"black\" fill=\"white\" stroke-width=\"0\" /><text x=\"30.0\" y=\"45.0\" dominant-baseline=\"middle\" text-anchor=\"middle\" font-size=\"14px\">0: </text><rect x=\"10.0\" y=\"75.0\" width=\"40\" height=\"40\" stroke=\"black\" fill=\"white\" stroke-width=\"0\" /><text x=\"30.0\" y=\"95.0\" dominant-baseline=\"middle\" text-anchor=\"middle\" font-size=\"14px\">1: </text><rect x=\"10.0\" y=\"125.0\" width=\"40\" height=\"40\" stroke=\"black\" fill=\"white\" stroke-width=\"0\" /><text x=\"30.0\" y=\"145.0\" dominant-baseline=\"middle\" text-anchor=\"middle\" font-size=\"14px\">2: </text><rect x=\"10.0\" y=\"175.0\" width=\"40\" height=\"40\" stroke=\"black\" fill=\"white\" stroke-width=\"0\" /><text x=\"30.0\" y=\"195.0\" dominant-baseline=\"middle\" text-anchor=\"middle\" font-size=\"14px\">3: </text><rect x=\"10.0\" y=\"225.0\" width=\"40\" height=\"40\" stroke=\"black\" fill=\"white\" stroke-width=\"0\" /><text x=\"30.0\" y=\"245.0\" dominant-baseline=\"middle\" text-anchor=\"middle\" font-size=\"14px\">4: </text><rect x=\"10.0\" y=\"275.0\" width=\"40\" height=\"40\" stroke=\"black\" fill=\"white\" stroke-width=\"0\" /><text x=\"30.0\" y=\"295.0\" dominant-baseline=\"middle\" text-anchor=\"middle\" font-size=\"14px\">5: </text><rect x=\"10.0\" y=\"325.0\" width=\"40\" height=\"40\" stroke=\"black\" fill=\"white\" stroke-width=\"0\" /><text x=\"30.0\" y=\"345.0\" dominant-baseline=\"middle\" text-anchor=\"middle\" font-size=\"14px\">6: </text><rect x=\"10.0\" y=\"375.0\" width=\"40\" height=\"40\" stroke=\"black\" fill=\"white\" stroke-width=\"0\" /><text x=\"30.0\" y=\"395.0\" dominant-baseline=\"middle\" text-anchor=\"middle\" font-size=\"14px\">7: </text><rect x=\"70.0\" y=\"25.0\" width=\"240.92398437500003\" height=\"40\" stroke=\"black\" fill=\"white\" stroke-width=\"1\" /><text x=\"190.46199218750002\" y=\"45.0\" dominant-baseline=\"middle\" text-anchor=\"middle\" font-size=\"14px\">ZZ</text><rect x=\"70.0\" y=\"125.0\" width=\"240.92398437500003\" height=\"40\" stroke=\"black\" fill=\"white\" stroke-width=\"1\" /><text x=\"190.46199218750002\" y=\"145.0\" dominant-baseline=\"middle\" text-anchor=\"middle\" font-size=\"14px\">ZZ^(-\\sigma_1_0*gamma*lam/2)</text><rect x=\"330.92398437500003\" y=\"25.0\" width=\"240.92398437500003\" height=\"40\" stroke=\"black\" fill=\"white\" stroke-width=\"1\" /><text x=\"451.38597656250005\" y=\"45.0\" dominant-baseline=\"middle\" text-anchor=\"middle\" font-size=\"14px\">ZZ</text><rect x=\"330.92398437500003\" y=\"225.0\" width=\"240.92398437500003\" height=\"40\" stroke=\"black\" fill=\"white\" stroke-width=\"1\" /><text x=\"451.38597656250005\" y=\"245.0\" dominant-baseline=\"middle\" text-anchor=\"middle\" font-size=\"14px\">ZZ^(-\\sigma_2_0*gamma*lam/2)</text><rect x=\"591.8479687500001\" y=\"25.0\" width=\"240.92398437500003\" height=\"40\" stroke=\"black\" fill=\"white\" stroke-width=\"1\" /><text x=\"712.3099609375001\" y=\"45.0\" dominant-baseline=\"middle\" text-anchor=\"middle\" font-size=\"14px\">ZZ</text><rect x=\"591.8479687500001\" y=\"325.0\" width=\"240.92398437500003\" height=\"40\" stroke=\"black\" fill=\"white\" stroke-width=\"1\" /><text x=\"712.3099609375001\" y=\"345.0\" dominant-baseline=\"middle\" text-anchor=\"middle\" font-size=\"14px\">ZZ^(-\\sigma_3_0*gamma*lam/2)</text><rect x=\"852.771953125\" y=\"125.0\" width=\"240.92398437500003\" height=\"40\" stroke=\"black\" fill=\"white\" stroke-width=\"1\" /><text x=\"973.2339453125\" y=\"145.0\" dominant-baseline=\"middle\" text-anchor=\"middle\" font-size=\"14px\">ZZ^(-\\sigma_0_1*gamma*lam/2)</text><rect x=\"852.771953125\" y=\"25.0\" width=\"240.92398437500003\" height=\"40\" stroke=\"black\" fill=\"white\" stroke-width=\"1\" /><text x=\"973.2339453125\" y=\"45.0\" dominant-baseline=\"middle\" text-anchor=\"middle\" font-size=\"14px\">ZZ</text><rect x=\"1113.6959375000001\" y=\"125.0\" width=\"240.92398437500003\" height=\"40\" stroke=\"black\" fill=\"white\" stroke-width=\"1\" /><text x=\"1234.1579296875002\" y=\"145.0\" dominant-baseline=\"middle\" text-anchor=\"middle\" font-size=\"14px\">ZZ</text><rect x=\"1113.6959375000001\" y=\"225.0\" width=\"240.92398437500003\" height=\"40\" stroke=\"black\" fill=\"white\" stroke-width=\"1\" /><text x=\"1234.1579296875002\" y=\"245.0\" dominant-baseline=\"middle\" text-anchor=\"middle\" font-size=\"14px\">ZZ^(-\\sigma_2_1*gamma*lam/2)</text><rect x=\"1364.6199218750003\" y=\"125.0\" width=\"240.92398437500003\" height=\"40\" stroke=\"black\" fill=\"white\" stroke-width=\"1\" /><text x=\"1485.0819140625003\" y=\"145.0\" dominant-baseline=\"middle\" text-anchor=\"middle\" font-size=\"14px\">ZZ</text><rect x=\"1364.6199218750003\" y=\"325.0\" width=\"240.92398437500003\" height=\"40\" stroke=\"black\" fill=\"white\" stroke-width=\"1\" /><text x=\"1485.0819140625003\" y=\"345.0\" dominant-baseline=\"middle\" text-anchor=\"middle\" font-size=\"14px\">ZZ^(-\\sigma_3_1*gamma*lam/2)</text><rect x=\"1605.5439062500004\" y=\"225.0\" width=\"240.92398437500003\" height=\"40\" stroke=\"black\" fill=\"white\" stroke-width=\"1\" /><text x=\"1726.0058984375005\" y=\"245.0\" dominant-baseline=\"middle\" text-anchor=\"middle\" font-size=\"14px\">ZZ^(-\\sigma_0_2*gamma*lam/2)</text><rect x=\"1605.5439062500004\" y=\"25.0\" width=\"240.92398437500003\" height=\"40\" stroke=\"black\" fill=\"white\" stroke-width=\"1\" /><text x=\"1726.0058984375005\" y=\"45.0\" dominant-baseline=\"middle\" text-anchor=\"middle\" font-size=\"14px\">ZZ</text><rect x=\"1876.4678906250006\" y=\"225.0\" width=\"240.92398437500003\" height=\"40\" stroke=\"black\" fill=\"white\" stroke-width=\"1\" /><text x=\"1996.9298828125006\" y=\"245.0\" dominant-baseline=\"middle\" text-anchor=\"middle\" font-size=\"14px\">ZZ^(-\\sigma_1_2*gamma*lam/2)</text><rect x=\"1876.4678906250006\" y=\"125.0\" width=\"240.92398437500003\" height=\"40\" stroke=\"black\" fill=\"white\" stroke-width=\"1\" /><text x=\"1996.9298828125006\" y=\"145.0\" dominant-baseline=\"middle\" text-anchor=\"middle\" font-size=\"14px\">ZZ</text><rect x=\"2137.3918750000007\" y=\"225.0\" width=\"240.92398437500003\" height=\"40\" stroke=\"black\" fill=\"white\" stroke-width=\"1\" /><text x=\"2257.853867187501\" y=\"245.0\" dominant-baseline=\"middle\" text-anchor=\"middle\" font-size=\"14px\">ZZ</text><rect x=\"2137.3918750000007\" y=\"325.0\" width=\"240.92398437500003\" height=\"40\" stroke=\"black\" fill=\"white\" stroke-width=\"1\" /><text x=\"2257.853867187501\" y=\"345.0\" dominant-baseline=\"middle\" text-anchor=\"middle\" font-size=\"14px\">ZZ^(-\\sigma_3_2*gamma*lam/2)</text><rect x=\"2398.315859375001\" y=\"325.0\" width=\"240.92398437500003\" height=\"40\" stroke=\"black\" fill=\"white\" stroke-width=\"1\" /><text x=\"2518.777851562501\" y=\"345.0\" dominant-baseline=\"middle\" text-anchor=\"middle\" font-size=\"14px\">ZZ^(-\\sigma_0_3*gamma*lam/2)</text><rect x=\"2398.315859375001\" y=\"25.0\" width=\"240.92398437500003\" height=\"40\" stroke=\"black\" fill=\"white\" stroke-width=\"1\" /><text x=\"2518.777851562501\" y=\"45.0\" dominant-baseline=\"middle\" text-anchor=\"middle\" font-size=\"14px\">ZZ</text><rect x=\"2659.239843750001\" y=\"325.0\" width=\"240.92398437500003\" height=\"40\" stroke=\"black\" fill=\"white\" stroke-width=\"1\" /><text x=\"2779.701835937501\" y=\"345.0\" dominant-baseline=\"middle\" text-anchor=\"middle\" font-size=\"14px\">ZZ^(-\\sigma_1_3*gamma*lam/2)</text><rect x=\"2659.239843750001\" y=\"125.0\" width=\"240.92398437500003\" height=\"40\" stroke=\"black\" fill=\"white\" stroke-width=\"1\" /><text x=\"2779.701835937501\" y=\"145.0\" dominant-baseline=\"middle\" text-anchor=\"middle\" font-size=\"14px\">ZZ</text><rect x=\"2659.239843750001\" y=\"25.0\" width=\"240.92398437500003\" height=\"40\" stroke=\"black\" fill=\"white\" stroke-width=\"1\" /><text x=\"2779.701835937501\" y=\"45.0\" dominant-baseline=\"middle\" text-anchor=\"middle\" font-size=\"14px\">ZZ</text><rect x=\"2659.239843750001\" y=\"75.0\" width=\"240.92398437500003\" height=\"40\" stroke=\"black\" fill=\"white\" stroke-width=\"1\" /><text x=\"2779.701835937501\" y=\"95.0\" dominant-baseline=\"middle\" text-anchor=\"middle\" font-size=\"14px\">ZZ^(\\sigma_0_0*gamma*lam/2)</text><rect x=\"2910.163828125001\" y=\"325.0\" width=\"240.92398437500003\" height=\"40\" stroke=\"black\" fill=\"white\" stroke-width=\"1\" /><text x=\"3030.625820312501\" y=\"345.0\" dominant-baseline=\"middle\" text-anchor=\"middle\" font-size=\"14px\">ZZ^(-\\sigma_2_3*gamma*lam/2)</text><rect x=\"2910.163828125001\" y=\"225.0\" width=\"240.92398437500003\" height=\"40\" stroke=\"black\" fill=\"white\" stroke-width=\"1\" /><text x=\"3030.625820312501\" y=\"245.0\" dominant-baseline=\"middle\" text-anchor=\"middle\" font-size=\"14px\">ZZ</text><rect x=\"2910.163828125001\" y=\"25.0\" width=\"240.92398437500003\" height=\"40\" stroke=\"black\" fill=\"white\" stroke-width=\"1\" /><text x=\"3030.625820312501\" y=\"45.0\" dominant-baseline=\"middle\" text-anchor=\"middle\" font-size=\"14px\">ZZ</text><rect x=\"2910.163828125001\" y=\"175.0\" width=\"240.92398437500003\" height=\"40\" stroke=\"black\" fill=\"white\" stroke-width=\"1\" /><text x=\"3030.625820312501\" y=\"195.0\" dominant-baseline=\"middle\" text-anchor=\"middle\" font-size=\"14px\">ZZ^(\\sigma_1_0*gamma*lam/2)</text><rect x=\"3151.0878125000013\" y=\"125.0\" width=\"235.87222656250003\" height=\"40\" stroke=\"black\" fill=\"white\" stroke-width=\"1\" /><text x=\"3269.0239257812514\" y=\"145.0\" dominant-baseline=\"middle\" text-anchor=\"middle\" font-size=\"14px\">ZZ^(\\sigma_0_1*gamma*lam/2)</text><rect x=\"3151.0878125000013\" y=\"75.0\" width=\"235.87222656250003\" height=\"40\" stroke=\"black\" fill=\"white\" stroke-width=\"1\" /><text x=\"3269.0239257812514\" y=\"95.0\" dominant-baseline=\"middle\" text-anchor=\"middle\" font-size=\"14px\">ZZ</text><rect x=\"3406.9600390625014\" y=\"25.0\" width=\"235.87222656250003\" height=\"40\" stroke=\"black\" fill=\"white\" stroke-width=\"1\" /><text x=\"3524.8961523437515\" y=\"45.0\" dominant-baseline=\"middle\" text-anchor=\"middle\" font-size=\"14px\">ZZ</text><rect x=\"3406.9600390625014\" y=\"275.0\" width=\"235.87222656250003\" height=\"40\" stroke=\"black\" fill=\"white\" stroke-width=\"1\" /><text x=\"3524.8961523437515\" y=\"295.0\" dominant-baseline=\"middle\" text-anchor=\"middle\" font-size=\"14px\">ZZ^(\\sigma_2_0*gamma*lam/2)</text><rect x=\"3642.8322656250016\" y=\"125.0\" width=\"235.87222656250003\" height=\"40\" stroke=\"black\" fill=\"white\" stroke-width=\"1\" /><text x=\"3760.7683789062517\" y=\"145.0\" dominant-baseline=\"middle\" text-anchor=\"middle\" font-size=\"14px\">ZZ</text><rect x=\"3642.8322656250016\" y=\"175.0\" width=\"235.87222656250003\" height=\"40\" stroke=\"black\" fill=\"white\" stroke-width=\"1\" /><text x=\"3760.7683789062517\" y=\"195.0\" dominant-baseline=\"middle\" text-anchor=\"middle\" font-size=\"14px\">ZZ^(\\sigma_1_1*gamma*lam/2)</text><rect x=\"3878.7044921875017\" y=\"225.0\" width=\"235.87222656250003\" height=\"40\" stroke=\"black\" fill=\"white\" stroke-width=\"1\" /><text x=\"3996.640605468752\" y=\"245.0\" dominant-baseline=\"middle\" text-anchor=\"middle\" font-size=\"14px\">ZZ^(\\sigma_0_2*gamma*lam/2)</text><rect x=\"3878.7044921875017\" y=\"75.0\" width=\"235.87222656250003\" height=\"40\" stroke=\"black\" fill=\"white\" stroke-width=\"1\" /><text x=\"3996.640605468752\" y=\"95.0\" dominant-baseline=\"middle\" text-anchor=\"middle\" font-size=\"14px\">ZZ</text><rect x=\"4134.576718750001\" y=\"25.0\" width=\"235.87222656250003\" height=\"40\" stroke=\"black\" fill=\"white\" stroke-width=\"1\" /><text x=\"4252.5128320312515\" y=\"45.0\" dominant-baseline=\"middle\" text-anchor=\"middle\" font-size=\"14px\">ZZ</text><rect x=\"4134.576718750001\" y=\"375.0\" width=\"235.87222656250003\" height=\"40\" stroke=\"black\" fill=\"white\" stroke-width=\"1\" /><text x=\"4252.5128320312515\" y=\"395.0\" dominant-baseline=\"middle\" text-anchor=\"middle\" font-size=\"14px\">ZZ^(\\sigma_3_0*gamma*lam/2)</text><rect x=\"4370.448945312502\" y=\"125.0\" width=\"235.87222656250003\" height=\"40\" stroke=\"black\" fill=\"white\" stroke-width=\"1\" /><text x=\"4488.385058593752\" y=\"145.0\" dominant-baseline=\"middle\" text-anchor=\"middle\" font-size=\"14px\">ZZ</text><rect x=\"4370.448945312502\" y=\"275.0\" width=\"235.87222656250003\" height=\"40\" stroke=\"black\" fill=\"white\" stroke-width=\"1\" /><text x=\"4488.385058593752\" y=\"295.0\" dominant-baseline=\"middle\" text-anchor=\"middle\" font-size=\"14px\">ZZ^(\\sigma_2_1*gamma*lam/2)</text><rect x=\"4606.321171875002\" y=\"225.0\" width=\"235.87222656250003\" height=\"40\" stroke=\"black\" fill=\"white\" stroke-width=\"1\" /><text x=\"4724.257285156252\" y=\"245.0\" dominant-baseline=\"middle\" text-anchor=\"middle\" font-size=\"14px\">ZZ^(\\sigma_1_2*gamma*lam/2)</text><rect x=\"4606.321171875002\" y=\"175.0\" width=\"235.87222656250003\" height=\"40\" stroke=\"black\" fill=\"white\" stroke-width=\"1\" /><text x=\"4724.257285156252\" y=\"195.0\" dominant-baseline=\"middle\" text-anchor=\"middle\" font-size=\"14px\">ZZ</text><rect x=\"4842.193398437502\" y=\"325.0\" width=\"235.87222656250003\" height=\"40\" stroke=\"black\" fill=\"white\" stroke-width=\"1\" /><text x=\"4960.129511718752\" y=\"345.0\" dominant-baseline=\"middle\" text-anchor=\"middle\" font-size=\"14px\">ZZ^(\\sigma_0_3*gamma*lam/2)</text><rect x=\"4842.193398437502\" y=\"75.0\" width=\"235.87222656250003\" height=\"40\" stroke=\"black\" fill=\"white\" stroke-width=\"1\" /><text x=\"4960.129511718752\" y=\"95.0\" dominant-baseline=\"middle\" text-anchor=\"middle\" font-size=\"14px\">ZZ</text><rect x=\"5098.065625000002\" y=\"125.0\" width=\"235.87222656250003\" height=\"40\" stroke=\"black\" fill=\"white\" stroke-width=\"1\" /><text x=\"5216.001738281252\" y=\"145.0\" dominant-baseline=\"middle\" text-anchor=\"middle\" font-size=\"14px\">ZZ</text><rect x=\"5098.065625000002\" y=\"375.0\" width=\"235.87222656250003\" height=\"40\" stroke=\"black\" fill=\"white\" stroke-width=\"1\" /><text x=\"5216.001738281252\" y=\"395.0\" dominant-baseline=\"middle\" text-anchor=\"middle\" font-size=\"14px\">ZZ^(\\sigma_3_1*gamma*lam/2)</text><rect x=\"5333.937851562502\" y=\"225.0\" width=\"235.87222656250003\" height=\"40\" stroke=\"black\" fill=\"white\" stroke-width=\"1\" /><text x=\"5451.873964843752\" y=\"245.0\" dominant-baseline=\"middle\" text-anchor=\"middle\" font-size=\"14px\">ZZ</text><rect x=\"5333.937851562502\" y=\"275.0\" width=\"235.87222656250003\" height=\"40\" stroke=\"black\" fill=\"white\" stroke-width=\"1\" /><text x=\"5451.873964843752\" y=\"295.0\" dominant-baseline=\"middle\" text-anchor=\"middle\" font-size=\"14px\">ZZ^(\\sigma_2_2*gamma*lam/2)</text><rect x=\"5569.810078125002\" y=\"325.0\" width=\"235.87222656250003\" height=\"40\" stroke=\"black\" fill=\"white\" stroke-width=\"1\" /><text x=\"5687.746191406252\" y=\"345.0\" dominant-baseline=\"middle\" text-anchor=\"middle\" font-size=\"14px\">ZZ^(\\sigma_1_3*gamma*lam/2)</text><rect x=\"5569.810078125002\" y=\"175.0\" width=\"235.87222656250003\" height=\"40\" stroke=\"black\" fill=\"white\" stroke-width=\"1\" /><text x=\"5687.746191406252\" y=\"195.0\" dominant-baseline=\"middle\" text-anchor=\"middle\" font-size=\"14px\">ZZ</text><rect x=\"5098.065625000002\" y=\"75.0\" width=\"235.87222656250003\" height=\"40\" stroke=\"black\" fill=\"white\" stroke-width=\"1\" /><text x=\"5216.001738281252\" y=\"95.0\" dominant-baseline=\"middle\" text-anchor=\"middle\" font-size=\"14px\">ZZ^(\\sigma_0_0*gamma*lam/2)</text><rect x=\"5098.065625000002\" y=\"25.0\" width=\"235.87222656250003\" height=\"40\" stroke=\"black\" fill=\"white\" stroke-width=\"1\" /><text x=\"5216.001738281252\" y=\"45.0\" dominant-baseline=\"middle\" text-anchor=\"middle\" font-size=\"14px\">ZZ</text><rect x=\"5825.682304687502\" y=\"225.0\" width=\"235.87222656250003\" height=\"40\" stroke=\"black\" fill=\"white\" stroke-width=\"1\" /><text x=\"5943.6184179687525\" y=\"245.0\" dominant-baseline=\"middle\" text-anchor=\"middle\" font-size=\"14px\">ZZ</text><rect x=\"5825.682304687502\" y=\"375.0\" width=\"235.87222656250003\" height=\"40\" stroke=\"black\" fill=\"white\" stroke-width=\"1\" /><text x=\"5943.6184179687525\" y=\"395.0\" dominant-baseline=\"middle\" text-anchor=\"middle\" font-size=\"14px\">ZZ^(\\sigma_3_2*gamma*lam/2)</text><rect x=\"6061.554531250003\" y=\"325.0\" width=\"235.87222656250003\" height=\"40\" stroke=\"black\" fill=\"white\" stroke-width=\"1\" /><text x=\"6179.490644531253\" y=\"345.0\" dominant-baseline=\"middle\" text-anchor=\"middle\" font-size=\"14px\">ZZ^(\\sigma_2_3*gamma*lam/2)</text><rect x=\"6061.554531250003\" y=\"275.0\" width=\"235.87222656250003\" height=\"40\" stroke=\"black\" fill=\"white\" stroke-width=\"1\" /><text x=\"6179.490644531253\" y=\"295.0\" dominant-baseline=\"middle\" text-anchor=\"middle\" font-size=\"14px\">ZZ</text><rect x=\"5825.682304687502\" y=\"75.0\" width=\"235.87222656250003\" height=\"40\" stroke=\"black\" fill=\"white\" stroke-width=\"1\" /><text x=\"5943.6184179687525\" y=\"95.0\" dominant-baseline=\"middle\" text-anchor=\"middle\" font-size=\"14px\">ZZ</text><rect x=\"5825.682304687502\" y=\"125.0\" width=\"235.87222656250003\" height=\"40\" stroke=\"black\" fill=\"white\" stroke-width=\"1\" /><text x=\"5943.6184179687525\" y=\"145.0\" dominant-baseline=\"middle\" text-anchor=\"middle\" font-size=\"14px\">ZZ^(\\sigma_1_0*gamma*lam/2)</text><rect x=\"6061.554531250003\" y=\"175.0\" width=\"235.87222656250003\" height=\"40\" stroke=\"black\" fill=\"white\" stroke-width=\"1\" /><text x=\"6179.490644531253\" y=\"195.0\" dominant-baseline=\"middle\" text-anchor=\"middle\" font-size=\"14px\">ZZ^(\\sigma_0_1*gamma*lam/2)</text><rect x=\"6061.554531250003\" y=\"25.0\" width=\"235.87222656250003\" height=\"40\" stroke=\"black\" fill=\"white\" stroke-width=\"1\" /><text x=\"6179.490644531253\" y=\"45.0\" dominant-baseline=\"middle\" text-anchor=\"middle\" font-size=\"14px\">ZZ</text><rect x=\"6317.426757812503\" y=\"325.0\" width=\"235.87222656250003\" height=\"40\" stroke=\"black\" fill=\"white\" stroke-width=\"1\" /><text x=\"6435.362871093753\" y=\"345.0\" dominant-baseline=\"middle\" text-anchor=\"middle\" font-size=\"14px\">ZZ</text><rect x=\"6317.426757812503\" y=\"375.0\" width=\"235.87222656250003\" height=\"40\" stroke=\"black\" fill=\"white\" stroke-width=\"1\" /><text x=\"6435.362871093753\" y=\"395.0\" dominant-baseline=\"middle\" text-anchor=\"middle\" font-size=\"14px\">ZZ^(\\sigma_3_3*gamma*lam/2)</text><rect x=\"6317.426757812503\" y=\"75.0\" width=\"235.87222656250003\" height=\"40\" stroke=\"black\" fill=\"white\" stroke-width=\"1\" /><text x=\"6435.362871093753\" y=\"95.0\" dominant-baseline=\"middle\" text-anchor=\"middle\" font-size=\"14px\">ZZ</text><rect x=\"6317.426757812503\" y=\"225.0\" width=\"235.87222656250003\" height=\"40\" stroke=\"black\" fill=\"white\" stroke-width=\"1\" /><text x=\"6435.362871093753\" y=\"245.0\" dominant-baseline=\"middle\" text-anchor=\"middle\" font-size=\"14px\">ZZ^(\\sigma_2_0*gamma*lam/2)</text><rect x=\"6553.298984375003\" y=\"175.0\" width=\"235.87222656250003\" height=\"40\" stroke=\"black\" fill=\"white\" stroke-width=\"1\" /><text x=\"6671.235097656253\" y=\"195.0\" dominant-baseline=\"middle\" text-anchor=\"middle\" font-size=\"14px\">ZZ^(\\sigma_1_1*gamma*lam/2)</text><rect x=\"6553.298984375003\" y=\"125.0\" width=\"235.87222656250003\" height=\"40\" stroke=\"black\" fill=\"white\" stroke-width=\"1\" /><text x=\"6671.235097656253\" y=\"145.0\" dominant-baseline=\"middle\" text-anchor=\"middle\" font-size=\"14px\">ZZ</text><rect x=\"6789.171210937503\" y=\"275.0\" width=\"235.87222656250003\" height=\"40\" stroke=\"black\" fill=\"white\" stroke-width=\"1\" /><text x=\"6907.107324218753\" y=\"295.0\" dominant-baseline=\"middle\" text-anchor=\"middle\" font-size=\"14px\">ZZ^(\\sigma_0_2*gamma*lam/2)</text><rect x=\"6789.171210937503\" y=\"25.0\" width=\"235.87222656250003\" height=\"40\" stroke=\"black\" fill=\"white\" stroke-width=\"1\" /><text x=\"6907.107324218753\" y=\"45.0\" dominant-baseline=\"middle\" text-anchor=\"middle\" font-size=\"14px\">ZZ</text><rect x=\"7045.043437500003\" y=\"75.0\" width=\"235.87222656250003\" height=\"40\" stroke=\"black\" fill=\"white\" stroke-width=\"1\" /><text x=\"7162.979550781253\" y=\"95.0\" dominant-baseline=\"middle\" text-anchor=\"middle\" font-size=\"14px\">ZZ</text><rect x=\"7045.043437500003\" y=\"325.0\" width=\"235.87222656250003\" height=\"40\" stroke=\"black\" fill=\"white\" stroke-width=\"1\" /><text x=\"7162.979550781253\" y=\"345.0\" dominant-baseline=\"middle\" text-anchor=\"middle\" font-size=\"14px\">ZZ^(\\sigma_3_0*gamma*lam/2)</text><rect x=\"7280.915664062503\" y=\"175.0\" width=\"235.87222656250003\" height=\"40\" stroke=\"black\" fill=\"white\" stroke-width=\"1\" /><text x=\"7398.851777343753\" y=\"195.0\" dominant-baseline=\"middle\" text-anchor=\"middle\" font-size=\"14px\">ZZ</text><rect x=\"7280.915664062503\" y=\"225.0\" width=\"235.87222656250003\" height=\"40\" stroke=\"black\" fill=\"white\" stroke-width=\"1\" /><text x=\"7398.851777343753\" y=\"245.0\" dominant-baseline=\"middle\" text-anchor=\"middle\" font-size=\"14px\">ZZ^(\\sigma_2_1*gamma*lam/2)</text><rect x=\"7516.7878906250035\" y=\"275.0\" width=\"235.87222656250003\" height=\"40\" stroke=\"black\" fill=\"white\" stroke-width=\"1\" /><text x=\"7634.7240039062535\" y=\"295.0\" dominant-baseline=\"middle\" text-anchor=\"middle\" font-size=\"14px\">ZZ^(\\sigma_1_2*gamma*lam/2)</text><rect x=\"7516.7878906250035\" y=\"125.0\" width=\"235.87222656250003\" height=\"40\" stroke=\"black\" fill=\"white\" stroke-width=\"1\" /><text x=\"7634.7240039062535\" y=\"145.0\" dominant-baseline=\"middle\" text-anchor=\"middle\" font-size=\"14px\">ZZ</text><rect x=\"7752.660117187504\" y=\"375.0\" width=\"235.87222656250003\" height=\"40\" stroke=\"black\" fill=\"white\" stroke-width=\"1\" /><text x=\"7870.596230468754\" y=\"395.0\" dominant-baseline=\"middle\" text-anchor=\"middle\" font-size=\"14px\">ZZ^(\\sigma_0_3*gamma*lam/2)</text><rect x=\"7752.660117187504\" y=\"25.0\" width=\"235.87222656250003\" height=\"40\" stroke=\"black\" fill=\"white\" stroke-width=\"1\" /><text x=\"7870.596230468754\" y=\"45.0\" dominant-baseline=\"middle\" text-anchor=\"middle\" font-size=\"14px\">ZZ</text><rect x=\"8008.532343750004\" y=\"175.0\" width=\"235.87222656250003\" height=\"40\" stroke=\"black\" fill=\"white\" stroke-width=\"1\" /><text x=\"8126.468457031254\" y=\"195.0\" dominant-baseline=\"middle\" text-anchor=\"middle\" font-size=\"14px\">ZZ</text><rect x=\"8008.532343750004\" y=\"325.0\" width=\"235.87222656250003\" height=\"40\" stroke=\"black\" fill=\"white\" stroke-width=\"1\" /><text x=\"8126.468457031254\" y=\"345.0\" dominant-baseline=\"middle\" text-anchor=\"middle\" font-size=\"14px\">ZZ^(\\sigma_3_1*gamma*lam/2)</text><rect x=\"8244.404570312503\" y=\"275.0\" width=\"235.87222656250003\" height=\"40\" stroke=\"black\" fill=\"white\" stroke-width=\"1\" /><text x=\"8362.340683593753\" y=\"295.0\" dominant-baseline=\"middle\" text-anchor=\"middle\" font-size=\"14px\">ZZ^(\\sigma_2_2*gamma*lam/2)</text><rect x=\"8244.404570312503\" y=\"225.0\" width=\"235.87222656250003\" height=\"40\" stroke=\"black\" fill=\"white\" stroke-width=\"1\" /><text x=\"8362.340683593753\" y=\"245.0\" dominant-baseline=\"middle\" text-anchor=\"middle\" font-size=\"14px\">ZZ</text><rect x=\"8480.276796875003\" y=\"375.0\" width=\"235.87222656250003\" height=\"40\" stroke=\"black\" fill=\"white\" stroke-width=\"1\" /><text x=\"8598.212910156253\" y=\"395.0\" dominant-baseline=\"middle\" text-anchor=\"middle\" font-size=\"14px\">ZZ^(\\sigma_1_3*gamma*lam/2)</text><rect x=\"8480.276796875003\" y=\"125.0\" width=\"235.87222656250003\" height=\"40\" stroke=\"black\" fill=\"white\" stroke-width=\"1\" /><text x=\"8598.212910156253\" y=\"145.0\" dominant-baseline=\"middle\" text-anchor=\"middle\" font-size=\"14px\">ZZ</text><rect x=\"8736.149023437503\" y=\"275.0\" width=\"235.87222656250003\" height=\"40\" stroke=\"black\" fill=\"white\" stroke-width=\"1\" /><text x=\"8854.085136718753\" y=\"295.0\" dominant-baseline=\"middle\" text-anchor=\"middle\" font-size=\"14px\">ZZ</text><rect x=\"8736.149023437503\" y=\"325.0\" width=\"235.87222656250003\" height=\"40\" stroke=\"black\" fill=\"white\" stroke-width=\"1\" /><text x=\"8854.085136718753\" y=\"345.0\" dominant-baseline=\"middle\" text-anchor=\"middle\" font-size=\"14px\">ZZ^(\\sigma_3_2*gamma*lam/2)</text><rect x=\"8972.021250000003\" y=\"375.0\" width=\"235.87222656250003\" height=\"40\" stroke=\"black\" fill=\"white\" stroke-width=\"1\" /><text x=\"9089.957363281253\" y=\"395.0\" dominant-baseline=\"middle\" text-anchor=\"middle\" font-size=\"14px\">ZZ^(\\sigma_2_3*gamma*lam/2)</text><rect x=\"8972.021250000003\" y=\"225.0\" width=\"235.87222656250003\" height=\"40\" stroke=\"black\" fill=\"white\" stroke-width=\"1\" /><text x=\"9089.957363281253\" y=\"245.0\" dominant-baseline=\"middle\" text-anchor=\"middle\" font-size=\"14px\">ZZ</text><rect x=\"8736.149023437503\" y=\"75.0\" width=\"235.87222656250003\" height=\"40\" stroke=\"black\" fill=\"white\" stroke-width=\"1\" /><text x=\"8854.085136718753\" y=\"95.0\" dominant-baseline=\"middle\" text-anchor=\"middle\" font-size=\"14px\">ZZ</text><rect x=\"8736.149023437503\" y=\"175.0\" width=\"235.87222656250003\" height=\"40\" stroke=\"black\" fill=\"white\" stroke-width=\"1\" /><text x=\"8854.085136718753\" y=\"195.0\" dominant-baseline=\"middle\" text-anchor=\"middle\" font-size=\"14px\">ZZ^(\\sigma_1_0*gamma*lam/2)</text><rect x=\"9237.893476562504\" y=\"375.0\" width=\"235.87222656250003\" height=\"40\" stroke=\"black\" fill=\"white\" stroke-width=\"1\" /><text x=\"9355.829589843754\" y=\"395.0\" dominant-baseline=\"middle\" text-anchor=\"middle\" font-size=\"14px\">ZZ^(\\sigma_3_3*gamma*lam/2)</text><rect x=\"9237.893476562504\" y=\"325.0\" width=\"235.87222656250003\" height=\"40\" stroke=\"black\" fill=\"white\" stroke-width=\"1\" /><text x=\"9355.829589843754\" y=\"345.0\" dominant-baseline=\"middle\" text-anchor=\"middle\" font-size=\"14px\">ZZ</text><rect x=\"9237.893476562504\" y=\"75.0\" width=\"235.87222656250003\" height=\"40\" stroke=\"black\" fill=\"white\" stroke-width=\"1\" /><text x=\"9355.829589843754\" y=\"95.0\" dominant-baseline=\"middle\" text-anchor=\"middle\" font-size=\"14px\">ZZ</text><rect x=\"9237.893476562504\" y=\"275.0\" width=\"235.87222656250003\" height=\"40\" stroke=\"black\" fill=\"white\" stroke-width=\"1\" /><text x=\"9355.829589843754\" y=\"295.0\" dominant-baseline=\"middle\" text-anchor=\"middle\" font-size=\"14px\">ZZ^(\\sigma_2_0*gamma*lam/2)</text><rect x=\"9493.765703125004\" y=\"75.0\" width=\"235.87222656250003\" height=\"40\" stroke=\"black\" fill=\"white\" stroke-width=\"1\" /><text x=\"9611.701816406254\" y=\"95.0\" dominant-baseline=\"middle\" text-anchor=\"middle\" font-size=\"14px\">ZZ</text><rect x=\"9493.765703125004\" y=\"375.0\" width=\"235.87222656250003\" height=\"40\" stroke=\"black\" fill=\"white\" stroke-width=\"1\" /><text x=\"9611.701816406254\" y=\"395.0\" dominant-baseline=\"middle\" text-anchor=\"middle\" font-size=\"14px\">ZZ^(\\sigma_3_0*gamma*lam/2)</text><rect x=\"9749.637929687504\" y=\"175.0\" width=\"235.87222656250003\" height=\"40\" stroke=\"black\" fill=\"white\" stroke-width=\"1\" /><text x=\"9867.574042968754\" y=\"195.0\" dominant-baseline=\"middle\" text-anchor=\"middle\" font-size=\"14px\">ZZ^(\\sigma_0_1*gamma*lam/2)</text><rect x=\"9749.637929687504\" y=\"75.0\" width=\"235.87222656250003\" height=\"40\" stroke=\"black\" fill=\"white\" stroke-width=\"1\" /><text x=\"9867.574042968754\" y=\"95.0\" dominant-baseline=\"middle\" text-anchor=\"middle\" font-size=\"14px\">ZZ</text><rect x=\"10005.510156250004\" y=\"175.0\" width=\"235.87222656250003\" height=\"40\" stroke=\"black\" fill=\"white\" stroke-width=\"1\" /><text x=\"10123.446269531254\" y=\"195.0\" dominant-baseline=\"middle\" text-anchor=\"middle\" font-size=\"14px\">ZZ</text><rect x=\"10005.510156250004\" y=\"275.0\" width=\"235.87222656250003\" height=\"40\" stroke=\"black\" fill=\"white\" stroke-width=\"1\" /><text x=\"10123.446269531254\" y=\"295.0\" dominant-baseline=\"middle\" text-anchor=\"middle\" font-size=\"14px\">ZZ^(\\sigma_2_1*gamma*lam/2)</text><rect x=\"10251.382382812504\" y=\"175.0\" width=\"235.87222656250003\" height=\"40\" stroke=\"black\" fill=\"white\" stroke-width=\"1\" /><text x=\"10369.318496093754\" y=\"195.0\" dominant-baseline=\"middle\" text-anchor=\"middle\" font-size=\"14px\">ZZ</text><rect x=\"10251.382382812504\" y=\"375.0\" width=\"235.87222656250003\" height=\"40\" stroke=\"black\" fill=\"white\" stroke-width=\"1\" /><text x=\"10369.318496093754\" y=\"395.0\" dominant-baseline=\"middle\" text-anchor=\"middle\" font-size=\"14px\">ZZ^(\\sigma_3_1*gamma*lam/2)</text><rect x=\"10487.254609375004\" y=\"275.0\" width=\"235.87222656250003\" height=\"40\" stroke=\"black\" fill=\"white\" stroke-width=\"1\" /><text x=\"10605.190722656254\" y=\"295.0\" dominant-baseline=\"middle\" text-anchor=\"middle\" font-size=\"14px\">ZZ^(\\sigma_0_2*gamma*lam/2)</text><rect x=\"10487.254609375004\" y=\"75.0\" width=\"235.87222656250003\" height=\"40\" stroke=\"black\" fill=\"white\" stroke-width=\"1\" /><text x=\"10605.190722656254\" y=\"95.0\" dominant-baseline=\"middle\" text-anchor=\"middle\" font-size=\"14px\">ZZ</text><rect x=\"10753.126835937504\" y=\"275.0\" width=\"235.87222656250003\" height=\"40\" stroke=\"black\" fill=\"white\" stroke-width=\"1\" /><text x=\"10871.062949218755\" y=\"295.0\" dominant-baseline=\"middle\" text-anchor=\"middle\" font-size=\"14px\">ZZ^(\\sigma_1_2*gamma*lam/2)</text><rect x=\"10753.126835937504\" y=\"175.0\" width=\"235.87222656250003\" height=\"40\" stroke=\"black\" fill=\"white\" stroke-width=\"1\" /><text x=\"10871.062949218755\" y=\"195.0\" dominant-baseline=\"middle\" text-anchor=\"middle\" font-size=\"14px\">ZZ</text><rect x=\"11008.999062500005\" y=\"275.0\" width=\"235.87222656250003\" height=\"40\" stroke=\"black\" fill=\"white\" stroke-width=\"1\" /><text x=\"11126.935175781255\" y=\"295.0\" dominant-baseline=\"middle\" text-anchor=\"middle\" font-size=\"14px\">ZZ</text><rect x=\"11008.999062500005\" y=\"375.0\" width=\"235.87222656250003\" height=\"40\" stroke=\"black\" fill=\"white\" stroke-width=\"1\" /><text x=\"11126.935175781255\" y=\"395.0\" dominant-baseline=\"middle\" text-anchor=\"middle\" font-size=\"14px\">ZZ^(\\sigma_3_2*gamma*lam/2)</text><rect x=\"11264.871289062505\" y=\"375.0\" width=\"235.87222656250003\" height=\"40\" stroke=\"black\" fill=\"white\" stroke-width=\"1\" /><text x=\"11382.807402343755\" y=\"395.0\" dominant-baseline=\"middle\" text-anchor=\"middle\" font-size=\"14px\">ZZ^(\\sigma_0_3*gamma*lam/2)</text><rect x=\"11264.871289062505\" y=\"75.0\" width=\"235.87222656250003\" height=\"40\" stroke=\"black\" fill=\"white\" stroke-width=\"1\" /><text x=\"11382.807402343755\" y=\"95.0\" dominant-baseline=\"middle\" text-anchor=\"middle\" font-size=\"14px\">ZZ</text><rect x=\"11520.743515625005\" y=\"375.0\" width=\"235.87222656250003\" height=\"40\" stroke=\"black\" fill=\"white\" stroke-width=\"1\" /><text x=\"11638.679628906255\" y=\"395.0\" dominant-baseline=\"middle\" text-anchor=\"middle\" font-size=\"14px\">ZZ^(\\sigma_1_3*gamma*lam/2)</text><rect x=\"11520.743515625005\" y=\"175.0\" width=\"235.87222656250003\" height=\"40\" stroke=\"black\" fill=\"white\" stroke-width=\"1\" /><text x=\"11638.679628906255\" y=\"195.0\" dominant-baseline=\"middle\" text-anchor=\"middle\" font-size=\"14px\">ZZ</text><rect x=\"11776.615742187505\" y=\"375.0\" width=\"235.87222656250003\" height=\"40\" stroke=\"black\" fill=\"white\" stroke-width=\"1\" /><text x=\"11894.551855468755\" y=\"395.0\" dominant-baseline=\"middle\" text-anchor=\"middle\" font-size=\"14px\">ZZ^(\\sigma_2_3*gamma*lam/2)</text><rect x=\"11776.615742187505\" y=\"275.0\" width=\"235.87222656250003\" height=\"40\" stroke=\"black\" fill=\"white\" stroke-width=\"1\" /><text x=\"11894.551855468755\" y=\"295.0\" dominant-baseline=\"middle\" text-anchor=\"middle\" font-size=\"14px\">ZZ</text></svg>"
      ],
      "text/plain": [
       "<cirq.contrib.svg.svg.SVGCircuit at 0x7f1650f752d0>"
      ]
     },
     "execution_count": 7,
     "metadata": {},
     "output_type": "execute_result"
    }
   ],
   "source": [
    "# Now let us build the entire circuit up to now\n",
    "\n",
    "cost_volatility_operators_pp = []\n",
    "cost_volatility_operators_mm = []\n",
    "cost_volatility_operators_pm = []\n",
    "cost_volatility_operators_mp = []\n",
    "\n",
    "# Loop over all ++ combinations\n",
    "for k in range(len(index_grid_pp_offdiagonal)):\n",
    "    i_qubit,j_qubit = index_grid_pp_offdiagonal[k]\n",
    "    i_portfolio, j_portfolio =index_grid_pp_portfolio[k]\n",
    "    cost_volatility_operators_pp.append(exp_zz(gamma*lam/4*sigma[i_portfolio][j_portfolio],qubit1=qubits[i_qubit],qubit2=qubits[j_qubit]))\n",
    "\n",
    "# Loop over all +- combinations\n",
    "for k in range(len(index_grid_pm_offdiagonal)):\n",
    "    i_qubit,j_qubit = index_grid_pm_offdiagonal[k]\n",
    "    i_portfolio, j_portfolio =index_grid_pm_portfolio[k]\n",
    "    cost_volatility_operators_pm.append(exp_zz((-1)*gamma*lam/4*sigma[i_portfolio][j_portfolio],qubit1=qubits[i_qubit],qubit2=qubits[j_qubit]))\n",
    "\n",
    "    # Loop over all -+ combinations\n",
    "for k in range(len(index_grid_mp_offdiagonal)):\n",
    "    i_qubit,j_qubit = index_grid_mp_offdiagonal[k]\n",
    "    i_portfolio, j_portfolio =index_grid_mp_portfolio[k]\n",
    "    cost_volatility_operators_mp.append(exp_zz((-1)*gamma*lam/4*sigma[i_portfolio][j_portfolio],qubit1=qubits[i_qubit],qubit2=qubits[j_qubit]))\n",
    "\n",
    "    # Loop over all -- combinations\n",
    "for k in range(len(index_grid_mm_offdiagonal)):\n",
    "    i_qubit,j_qubit = index_grid_mm_offdiagonal[k]\n",
    "    i_portfolio, j_portfolio =index_grid_mm_portfolio[k]\n",
    "    cost_volatility_operators_mm.append(exp_zz((-1)*gamma*lam/4*sigma[i_portfolio][j_portfolio],qubit1=qubits[i_qubit],qubit2=qubits[j_qubit]))\n",
    "\n",
    "\n",
    "#cost_returns_operators = [cirq.rz((-1)**int(i)*(1-lam)*gamma*mu[int(i/2)]).on(qubits[i]) for i in range(len(qubits))]\n",
    "\n",
    "# Create the circuit from this \n",
    "circuit = cirq.Circuit((cost_volatility_operators_pp,cost_volatility_operators_pm,cost_volatility_operators_mp,cost_volatility_operators_mm))\n",
    "SVGCircuit(circuit)"
   ]
  },
  {
   "cell_type": "markdown",
   "metadata": {},
   "source": [
    "# Implement the exponential operator of the transaction cost\n",
    "\n",
    "\n",
    "$$\n",
    "C_{TC}(z) = \\frac{1}{4}T\\left( 3+(1-y^2_i-y_i)z^{+}_{i}+(1-y^2_i+y_i)z^{-}_{i}+(2y^2_i-1)z^{+}_{i}z^{-}_{i} \\right)\n",
    "$$\n",
    "\n",
    "\n",
    "$$\n",
    "\\text{Exp}\\left( i\\pi \\gamma C_{TC}(z) \\right) = \\text{Exp}\\left(  i\\pi \\gamma \\frac{1}{4}T\\left(1-y^2_i-y_i\\right)z^{+}_{i}\\right)\\text{Exp}\\left(  i\\pi \\gamma \\frac{1}{4}T\\left(1-y^2_i+y_i\\right)z^{-}_{i} \\right)\\text{Exp}\\left(  i\\pi \\gamma \\frac{1}{4}T\\left(2y^2_i-1\\right)z^{+}_{i}z^{-}_{i} \\right)\n",
    "$$\n",
    "\n"
   ]
  },
  {
   "cell_type": "code",
   "execution_count": 9,
   "metadata": {},
   "outputs": [
    {
     "name": "stdout",
     "output_type": "stream",
     "text": [
      "[0, 2, 4, 6]\n"
     ]
    },
    {
     "data": {
      "image/svg+xml": [
       "<svg xmlns=\"http://www.w3.org/2000/svg\" width=\"593.0744921875\" height=\"400.0\"><line x1=\"30.0\" x2=\"563.0744921875\" y1=\"25.0\" y2=\"25.0\" stroke=\"#1967d2\" stroke-width=\"1\" /><line x1=\"30.0\" x2=\"563.0744921875\" y1=\"75.0\" y2=\"75.0\" stroke=\"#1967d2\" stroke-width=\"1\" /><line x1=\"30.0\" x2=\"563.0744921875\" y1=\"125.0\" y2=\"125.0\" stroke=\"#1967d2\" stroke-width=\"1\" /><line x1=\"30.0\" x2=\"563.0744921875\" y1=\"175.0\" y2=\"175.0\" stroke=\"#1967d2\" stroke-width=\"1\" /><line x1=\"30.0\" x2=\"563.0744921875\" y1=\"225.0\" y2=\"225.0\" stroke=\"#1967d2\" stroke-width=\"1\" /><line x1=\"30.0\" x2=\"563.0744921875\" y1=\"275.0\" y2=\"275.0\" stroke=\"#1967d2\" stroke-width=\"1\" /><line x1=\"30.0\" x2=\"563.0744921875\" y1=\"325.0\" y2=\"325.0\" stroke=\"#1967d2\" stroke-width=\"1\" /><line x1=\"30.0\" x2=\"563.0744921875\" y1=\"375.0\" y2=\"375.0\" stroke=\"#1967d2\" stroke-width=\"1\" /><line x1=\"306.53724609375\" x2=\"306.53724609375\" y1=\"25.0\" y2=\"75.0\" stroke=\"black\" stroke-width=\"3\" /><line x1=\"306.53724609375\" x2=\"306.53724609375\" y1=\"125.0\" y2=\"175.0\" stroke=\"black\" stroke-width=\"3\" /><line x1=\"306.53724609375\" x2=\"306.53724609375\" y1=\"225.0\" y2=\"275.0\" stroke=\"black\" stroke-width=\"3\" /><line x1=\"306.53724609375\" x2=\"306.53724609375\" y1=\"325.0\" y2=\"375.0\" stroke=\"black\" stroke-width=\"3\" /><rect x=\"10.0\" y=\"5.0\" width=\"40\" height=\"40\" stroke=\"black\" fill=\"white\" stroke-width=\"0\" /><text x=\"30.0\" y=\"25.0\" dominant-baseline=\"middle\" text-anchor=\"middle\" font-size=\"14px\">0: </text><rect x=\"10.0\" y=\"55.0\" width=\"40\" height=\"40\" stroke=\"black\" fill=\"white\" stroke-width=\"0\" /><text x=\"30.0\" y=\"75.0\" dominant-baseline=\"middle\" text-anchor=\"middle\" font-size=\"14px\">1: </text><rect x=\"10.0\" y=\"105.0\" width=\"40\" height=\"40\" stroke=\"black\" fill=\"white\" stroke-width=\"0\" /><text x=\"30.0\" y=\"125.0\" dominant-baseline=\"middle\" text-anchor=\"middle\" font-size=\"14px\">2: </text><rect x=\"10.0\" y=\"155.0\" width=\"40\" height=\"40\" stroke=\"black\" fill=\"white\" stroke-width=\"0\" /><text x=\"30.0\" y=\"175.0\" dominant-baseline=\"middle\" text-anchor=\"middle\" font-size=\"14px\">3: </text><rect x=\"10.0\" y=\"205.0\" width=\"40\" height=\"40\" stroke=\"black\" fill=\"white\" stroke-width=\"0\" /><text x=\"30.0\" y=\"225.0\" dominant-baseline=\"middle\" text-anchor=\"middle\" font-size=\"14px\">4: </text><rect x=\"10.0\" y=\"255.0\" width=\"40\" height=\"40\" stroke=\"black\" fill=\"white\" stroke-width=\"0\" /><text x=\"30.0\" y=\"275.0\" dominant-baseline=\"middle\" text-anchor=\"middle\" font-size=\"14px\">5: </text><rect x=\"10.0\" y=\"305.0\" width=\"40\" height=\"40\" stroke=\"black\" fill=\"white\" stroke-width=\"0\" /><text x=\"30.0\" y=\"325.0\" dominant-baseline=\"middle\" text-anchor=\"middle\" font-size=\"14px\">6: </text><rect x=\"10.0\" y=\"355.0\" width=\"40\" height=\"40\" stroke=\"black\" fill=\"white\" stroke-width=\"0\" /><text x=\"30.0\" y=\"375.0\" dominant-baseline=\"middle\" text-anchor=\"middle\" font-size=\"14px\">7: </text><rect x=\"70.0\" y=\"5.0\" width=\"142.46734375\" height=\"40\" stroke=\"black\" fill=\"white\" stroke-width=\"1\" /><text x=\"141.233671875\" y=\"25.0\" dominant-baseline=\"middle\" text-anchor=\"middle\" font-size=\"14px\">Rz(0.25*T*gamma)</text><rect x=\"70.0\" y=\"105.0\" width=\"142.46734375\" height=\"40\" stroke=\"black\" fill=\"white\" stroke-width=\"1\" /><text x=\"141.233671875\" y=\"125.0\" dominant-baseline=\"middle\" text-anchor=\"middle\" font-size=\"14px\">Rz(0.25*T*gamma)</text><rect x=\"70.0\" y=\"205.0\" width=\"142.46734375\" height=\"40\" stroke=\"black\" fill=\"white\" stroke-width=\"1\" /><text x=\"141.233671875\" y=\"225.0\" dominant-baseline=\"middle\" text-anchor=\"middle\" font-size=\"14px\">Rz(0.25*T*gamma)</text><rect x=\"70.0\" y=\"305.0\" width=\"142.46734375\" height=\"40\" stroke=\"black\" fill=\"white\" stroke-width=\"1\" /><text x=\"141.233671875\" y=\"325.0\" dominant-baseline=\"middle\" text-anchor=\"middle\" font-size=\"14px\">Rz(0.25*T*gamma)</text><rect x=\"232.46734375\" y=\"5.0\" width=\"148.13980468750003\" height=\"40\" stroke=\"black\" fill=\"white\" stroke-width=\"1\" /><text x=\"306.53724609375\" y=\"25.0\" dominant-baseline=\"middle\" text-anchor=\"middle\" font-size=\"14px\">ZZ</text><rect x=\"232.46734375\" y=\"55.0\" width=\"148.13980468750003\" height=\"40\" stroke=\"black\" fill=\"white\" stroke-width=\"1\" /><text x=\"306.53724609375\" y=\"75.0\" dominant-baseline=\"middle\" text-anchor=\"middle\" font-size=\"14px\">ZZ^(0.5*T*gamma)</text><rect x=\"232.46734375\" y=\"105.0\" width=\"148.13980468750003\" height=\"40\" stroke=\"black\" fill=\"white\" stroke-width=\"1\" /><text x=\"306.53724609375\" y=\"125.0\" dominant-baseline=\"middle\" text-anchor=\"middle\" font-size=\"14px\">ZZ</text><rect x=\"232.46734375\" y=\"155.0\" width=\"148.13980468750003\" height=\"40\" stroke=\"black\" fill=\"white\" stroke-width=\"1\" /><text x=\"306.53724609375\" y=\"175.0\" dominant-baseline=\"middle\" text-anchor=\"middle\" font-size=\"14px\">ZZ^(0.5*T*gamma)</text><rect x=\"232.46734375\" y=\"205.0\" width=\"148.13980468750003\" height=\"40\" stroke=\"black\" fill=\"white\" stroke-width=\"1\" /><text x=\"306.53724609375\" y=\"225.0\" dominant-baseline=\"middle\" text-anchor=\"middle\" font-size=\"14px\">ZZ</text><rect x=\"232.46734375\" y=\"255.0\" width=\"148.13980468750003\" height=\"40\" stroke=\"black\" fill=\"white\" stroke-width=\"1\" /><text x=\"306.53724609375\" y=\"275.0\" dominant-baseline=\"middle\" text-anchor=\"middle\" font-size=\"14px\">ZZ^(0.5*T*gamma)</text><rect x=\"232.46734375\" y=\"305.0\" width=\"148.13980468750003\" height=\"40\" stroke=\"black\" fill=\"white\" stroke-width=\"1\" /><text x=\"306.53724609375\" y=\"325.0\" dominant-baseline=\"middle\" text-anchor=\"middle\" font-size=\"14px\">ZZ</text><rect x=\"232.46734375\" y=\"355.0\" width=\"148.13980468750003\" height=\"40\" stroke=\"black\" fill=\"white\" stroke-width=\"1\" /><text x=\"306.53724609375\" y=\"375.0\" dominant-baseline=\"middle\" text-anchor=\"middle\" font-size=\"14px\">ZZ^(0.5*T*gamma)</text><rect x=\"400.6071484375\" y=\"55.0\" width=\"142.46734375\" height=\"40\" stroke=\"black\" fill=\"white\" stroke-width=\"1\" /><text x=\"471.8408203125\" y=\"75.0\" dominant-baseline=\"middle\" text-anchor=\"middle\" font-size=\"14px\">Rz(0.25*T*gamma)</text><rect x=\"400.6071484375\" y=\"155.0\" width=\"142.46734375\" height=\"40\" stroke=\"black\" fill=\"white\" stroke-width=\"1\" /><text x=\"471.8408203125\" y=\"175.0\" dominant-baseline=\"middle\" text-anchor=\"middle\" font-size=\"14px\">Rz(0.25*T*gamma)</text><rect x=\"400.6071484375\" y=\"255.0\" width=\"142.46734375\" height=\"40\" stroke=\"black\" fill=\"white\" stroke-width=\"1\" /><text x=\"471.8408203125\" y=\"275.0\" dominant-baseline=\"middle\" text-anchor=\"middle\" font-size=\"14px\">Rz(0.25*T*gamma)</text><rect x=\"400.6071484375\" y=\"355.0\" width=\"142.46734375\" height=\"40\" stroke=\"black\" fill=\"white\" stroke-width=\"1\" /><text x=\"471.8408203125\" y=\"375.0\" dominant-baseline=\"middle\" text-anchor=\"middle\" font-size=\"14px\">Rz(0.25*T*gamma)</text></svg>"
      ],
      "text/plain": [
       "<cirq.contrib.svg.svg.SVGCircuit at 0x7f1651004a50>"
      ]
     },
     "execution_count": 9,
     "metadata": {},
     "output_type": "execute_result"
    }
   ],
   "source": [
    "transaction_operators_p_i = []\n",
    "transaction_operators_m_i = []\n",
    "transaction_operators_pm_ii = []\n",
    "\n",
    "print(index_grid_p)\n",
    "\n",
    "for k in range(len(index_grid_p)):\n",
    "    angle_i = (1/4)*T*(1-y[k]**2-y[k])*gamma\n",
    "    i_qubit = index_grid_p[k]\n",
    "    transaction_operators_p_i.append(cirq.rz(angle_i).on(qubits[i_qubit]) )\n",
    "    \n",
    "for k in range(len(index_grid_pm_ii)):\n",
    "    angle_k = (1/4)*T*(2*y[k]**2-1)*gamma\n",
    "    i_qubit, j_qubit = index_grid_pm_ii[k]\n",
    "    i_portfolio, j_portfolio =index_grid_pm_ii[k]\n",
    "    transaction_operators_pm_ii.append(exp_zz( angle_k,qubit1=qubits[i_qubit],qubit2=qubits[j_qubit]))\n",
    "\n",
    "for k in range(len(index_grid_m)):\n",
    "    angle_i = (1/4)*T*(1-y[k]**2+y[k])*gamma\n",
    "    i_qubit = index_grid_m[k]\n",
    "    transaction_operators_m_i.append(cirq.rz(angle_i).on(qubits[i_qubit]) )\n",
    "    \n",
    "\n",
    "circuit = cirq.Circuit((transaction_operators_p_i,transaction_operators_pm_ii,transaction_operators_m_i))\n",
    "SVGCircuit(circuit)"
   ]
  },
  {
   "cell_type": "markdown",
   "metadata": {},
   "source": [
    "# Now we implement the soft constraint Term\n",
    "\n",
    "\n"
   ]
  },
  {
   "cell_type": "code",
   "execution_count": null,
   "metadata": {},
   "outputs": [],
   "source": []
  }
 ],
 "metadata": {
  "kernelspec": {
   "display_name": "cirq",
   "language": "python",
   "name": "cirq"
  },
  "language_info": {
   "codemirror_mode": {
    "name": "ipython",
    "version": 3
   },
   "file_extension": ".py",
   "mimetype": "text/x-python",
   "name": "python",
   "nbconvert_exporter": "python",
   "pygments_lexer": "ipython3",
   "version": "3.7.4"
  }
 },
 "nbformat": 4,
 "nbformat_minor": 4
}

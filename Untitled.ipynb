{
 "cells": [
  {
   "cell_type": "code",
   "execution_count": 16,
   "metadata": {},
   "outputs": [
    {
     "name": "stdout",
     "output_type": "stream",
     "text": [
      "The autoreload extension is already loaded. To reload it, use:\n",
      "  %reload_ext autoreload\n"
     ]
    }
   ],
   "source": [
    "%load_ext autoreload\n",
    "%autoreload 2\n",
    "\n",
    "import qc_utils as utils\n",
    "import cirq\n",
    "from cirq.contrib.svg import SVGCircuit\n",
    "import matplotlib.pyplot as plt\n",
    "import sympy\n",
    "import itertools\n",
    "import numpy as np"
   ]
  },
  {
   "cell_type": "markdown",
   "metadata": {},
   "source": [
    "# Forward"
   ]
  },
  {
   "cell_type": "markdown",
   "metadata": {},
   "source": [
    "# The portfolio rebalancing optimization problem"
   ]
  },
  {
   "cell_type": "markdown",
   "metadata": {},
   "source": [
    "Suppose there are $N$ risky assets that have a mean return $\\mu_k$ and a volatility $\\sigma_k$. There is a vector ${\\bf z} = [z_1, ..., z_n]$, where $z_k = \\lbrace -1,0,1 \\rbrace $ that represents our current holdings. A value of $+1 (-1)$ indicates that we currently hold (short) the $k$-th asset and a value of $0$ indicates that we do not take any position for that asset.\n",
    "\n",
    "The optimal portfolio is the one that minimizes the return-risk cost function $C_{RR}({\\bf z})$ given by\n",
    "\n",
    "$$\n",
    "C_{RR}({\\bf z}) = -\\sum_k (1-\\lambda) r_k z_k + \\lambda\\sum_{kj} \\sigma_{kj} z_k z_j,\n",
    "$$\n",
    "\n",
    "\n",
    "where $0 \\leq \\lambda \\leq 1$ represents an asset manager control parameter that balances the return-risk trade-off, $\\lambda=0$ favours returns and $\\lambda = 1$ favours the risk."
   ]
  },
  {
   "cell_type": "markdown",
   "metadata": {},
   "source": [
    "## The trading costs"
   ]
  },
  {
   "cell_type": "markdown",
   "metadata": {},
   "source": [
    "The change of the vector ${\\bf z}$ incuurs trading fees. Those amount of fees that this change genertes will be given contained in the trading-cost function\n",
    "\n",
    "$$\n",
    "C_{TC}({\\bf z}) = \\sum_j (1-\\delta(z_i-y_i))T,\n",
    "$$\n",
    "\n",
    "\n",
    "where the vector ${\\bf y}$ represents the previous positions of the portfolio, $T$ is the transaction fee and $\\delta$ is the discrete Kronecker delta function."
   ]
  },
  {
   "cell_type": "markdown",
   "metadata": {},
   "source": [
    "## Trading constraints"
   ]
  },
  {
   "cell_type": "markdown",
   "metadata": {},
   "source": [
    "The above problem should be solved under the condition that we have a discrete number of assets to be invested\n",
    "\n",
    "$$\n",
    "\\sum_j z_j =D \n",
    "$$"
   ]
  },
  {
   "cell_type": "markdown",
   "metadata": {},
   "source": [
    "# Function encoding"
   ]
  },
  {
   "cell_type": "markdown",
   "metadata": {},
   "source": [
    "### Soft constraint encoding"
   ]
  },
  {
   "cell_type": "markdown",
   "metadata": {},
   "source": [
    "$$\n",
    "\\begin{align}\n",
    "P_{\\rm INV}(z) = \\sum_{kj} \\frac{A}{4} \\left( s^+_k s^+_j-s^+_k s^-_j - s^-_k s^+_j+ s^-_k s^-_j \\right) -AD\\sum_{j} (s^+_j-s^-_j)+AD^2\n",
    "\\end{align}\n",
    "$$"
   ]
  },
  {
   "cell_type": "markdown",
   "metadata": {},
   "source": [
    "### Transaction cost encoding"
   ]
  },
  {
   "cell_type": "markdown",
   "metadata": {},
   "source": [
    "To encode the transcation cost, we factorize the discrete Dirac-delta function as\n",
    "\n",
    "$$\n",
    "\\delta(z-y) = c_0(z-y-2)(z-y-1)(z-y+1)(z-y+2),\n",
    "$$\n",
    "\n",
    "where $z,y \\in \\lbrace -1,0,1 \\rbrace$ noting that $\\delta(z-y) =0$ except when $z=y$, where $\\delta(z-y) =1$. This implies that\n",
    "\n",
    "$$\n",
    "\\begin{align}\n",
    "\\delta(z-y) &= \\frac{1}{4}(z-y-2)(z-y-1)(z-y+1)(z-y+2),\\\\\n",
    "&= \\left(\\frac{3}{2}y^2-1 \\right)z^2+(1-y^2)+\\frac{1}{2}yz.\n",
    "\\end{align}\n",
    "$$\n",
    "\n",
    "and so,\n",
    "\n",
    "$$\n",
    "\\begin{align}\n",
    "C_{TS}(s_i) &= T(1 - \\delta(s_i-y_i) ),\\\\\n",
    "&= T \\left(1-\\left(\\frac{3}{2}y^2-1 \\right)z^2-(1-y^2)-\\frac{1}{2}yz \\right),\\\\\n",
    "&= T \\left(-\\frac{1}{2}\\left(\\frac{3}{2}y^2-1 \\right)(1-s^+_is^-_i)-y^2-\\frac{1}{4}y(s^+_i- s^-_i). \\right)\n",
    "\\end{align}\n",
    "$$\n",
    "\n",
    "This last function generates all of the correct combinations except for $(y_i,s_i^+,s_i^-)=(0,1,1)$. There we would like this function to generate the value $T$ instead of $0$. To carry this out, we will add a function $g(s_i)$ that is zero for $y^2_i=1$ and for  $y_i,s_i^+,s_i^- = (0,-1,-1),(0,-1,1),(0,-1,1)$. Furthermore,$g(s^+_i,s^-_i)=T$. This function is easily found to be\n",
    "\n",
    "$$\n",
    "g(s_i) = \\frac{T}{4}\\left(1+s^+_i s^-_i +s^-_i +s^+_i \\right)(1-y^2_i).\n",
    "$$\n",
    "\n",
    "\n",
    "Adding this additional peanlization term, we arrive at the cost-function encoding \n",
    "\n",
    "$$\n",
    "\\begin{align}\n",
    "C_{TS}(s_i) = \\frac{1}{4}T\\left( 3+(1-y^2_i-y_i)s^{+}_{i}+(1-y^2_i+y_i)s^{-}_{i}+(2y^2_i-1)s^{+}_{i}s^{-}_{i} \\right)\n",
    "\\end{align}\n",
    "$$\n"
   ]
  },
  {
   "cell_type": "code",
   "execution_count": 37,
   "metadata": {},
   "outputs": [
    {
     "name": "stdout",
     "output_type": "stream",
     "text": [
      "1.0 1.0\n",
      "0.0 0.0\n",
      "1.0 1.0\n",
      "1.0 1.0\n",
      "0.0 0.0\n",
      "1.0 1.0\n",
      "1.0 1.0\n",
      "1.0 1.0\n",
      "1.0 1.0\n",
      "1.0 1.0\n",
      "0.0 0.0\n",
      "1.0 1.0\n"
     ]
    }
   ],
   "source": [
    "\n",
    "def C_stored(sm,sp,y):\n",
    "    '''\n",
    "    The Tabulated values, (T=1)\n",
    "    for Table II of Hodson et. al. 2019\n",
    "    '''\n",
    "    \n",
    "    sm = int((sm+1)/2)\n",
    "    sp = int((sp+1)/2)\n",
    "    y = y+1\n",
    "    \n",
    "    A = np.zeros((3,2,2))\n",
    "    A[0,0,0]=1\n",
    "    A[0,0,1]=1\n",
    "    A[0,1,0]=0\n",
    "    A[0,1,1]=1\n",
    "    \n",
    "    A[1,0,0]=0\n",
    "    A[1,0,1]=1\n",
    "    A[1,1,0]=1\n",
    "    A[1,1,1]=1\n",
    "    \n",
    "    A[2,0,0]=1\n",
    "    A[2,0,1]=0\n",
    "    A[2,1,0]=1\n",
    "    A[2,1,1]=1\n",
    "    \n",
    "    return A[y,sm,sp]\n",
    "\n",
    "def C(sm,sp,y):\n",
    "    return 1/4*(3+(1-y**2-y)*sp+(1-y**2+y)*sm+(2*y**2-1)*sp*sm)\n",
    "\n",
    "def C2(sm,sp,y):\n",
    "    return 1-((3/2.0*y**2-1.0)*(1-sm*sp)/2+(1-y**2)+(1.0/4.0)*y*(sp-sm))+(1-y**2)*(1/4)*(1+sp*sm+sp+sm)\n",
    "\n",
    "y_index = [-1,0,1]\n",
    "sp_index = [-1,1]\n",
    "sm_index = [-1,1]\n",
    "combinations = itertools.product(y_index,sp_index,sm_index)\n",
    "\n",
    "for y,sp,sm in list(combinations):\n",
    "    print(C2(sm,sp,y),C_stored(sm,sp,y))"
   ]
  },
  {
   "cell_type": "markdown",
   "metadata": {},
   "source": [
    "# Portfolio rebalancing using soft constraint QAOA"
   ]
  },
  {
   "cell_type": "markdown",
   "metadata": {},
   "source": [
    "In this notebook, we will apply the QAOA algorithm to solve the portfolio optimization problem using a soft constraint.\n",
    "\n",
    "\n",
    "$$\n",
    "C_{RR}({\\bf z}) = \\sum_i (1-\\lambda) r_i z_i - \\lambda\\sum_{ij} \\sigma_{ij} z_i z_j\n",
    "$$\n",
    "\n",
    "$$\n",
    "C_{TC}({\\bf z}) = \\sum_i T (1- \\delta(z_i-y_i))\n",
    "$$\n",
    "\n",
    "\n",
    "The soft constraint that we impose will be given \n",
    "\n",
    "$$\n",
    "H =C_{RR}({\\bf z})+C_{TC}({\\bf z})+A\\left(D-\\sum_i z_i \\right)^2\n",
    "$$"
   ]
  },
  {
   "cell_type": "code",
   "execution_count": 2,
   "metadata": {},
   "outputs": [],
   "source": [
    "# Define the number of portfolios to optimize\n",
    "N_portfolio = 3\n",
    "\n",
    "\n",
    "\n",
    "A=1.0\n",
    "D=1.0\n",
    "\n",
    "\n",
    "portfolio1 = utils.Portfolio(N_portfolio=N_portfolio)"
   ]
  },
  {
   "cell_type": "code",
   "execution_count": null,
   "metadata": {},
   "outputs": [],
   "source": []
  }
 ],
 "metadata": {
  "kernelspec": {
   "display_name": "cirq",
   "language": "python",
   "name": "cirq"
  },
  "language_info": {
   "codemirror_mode": {
    "name": "ipython",
    "version": 3
   },
   "file_extension": ".py",
   "mimetype": "text/x-python",
   "name": "python",
   "nbconvert_exporter": "python",
   "pygments_lexer": "ipython3",
   "version": "3.7.5"
  }
 },
 "nbformat": 4,
 "nbformat_minor": 4
}

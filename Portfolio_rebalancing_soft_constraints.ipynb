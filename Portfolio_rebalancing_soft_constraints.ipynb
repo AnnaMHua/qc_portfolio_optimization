{
 "cells": [
  {
   "cell_type": "code",
   "execution_count": 2,
   "metadata": {},
   "outputs": [],
   "source": [
    "import cirq\n",
    "import numpy as np"
   ]
  },
  {
   "cell_type": "markdown",
   "metadata": {},
   "source": [
    "# The Portfolio Rebalancing Optimization using QAOA with soft constraints"
   ]
  },
  {
   "cell_type": "markdown",
   "metadata": {},
   "source": [
    "In this notebook, we will apply the QAOA algorithm to solve the portfolio optimization problem using a soft constraint\n",
    "\n",
    "\n",
    "$$\n",
    "C_{RR}({\\bf z}) = \\sum_i \\lambda r_i z_i - (1-\\lambda)\\sum_{ij} \\sigma_{ij} z_i z_j\n",
    "$$\n",
    "\n",
    "$$\n",
    "C_{TC}({\\bf z}) = \\sum_i T (1- \\delta(z-y))\n",
    "$$\n",
    "\n",
    "\n",
    "The soft constraint that we impose will be given \n",
    "\n",
    "$$\n",
    "H =C_{RR}({\\bf z})+C_{TC}({\\bf z})+A\\left(D-\\sum_i z_i \\right)^2\n",
    "$$"
   ]
  },
  {
   "cell_type": "code",
   "execution_count": 4,
   "metadata": {},
   "outputs": [
    {
     "name": "stdout",
     "output_type": "stream",
     "text": [
      "[cirq.GridQubit(0, 0), cirq.GridQubit(0, 1), cirq.GridQubit(0, 2), cirq.GridQubit(1, 0), cirq.GridQubit(1, 1), cirq.GridQubit(1, 2), cirq.GridQubit(2, 0), cirq.GridQubit(2, 1), cirq.GridQubit(2, 2)]\n"
     ]
    }
   ],
   "source": [
    "# Initialize the states \n",
    "\n",
    "# define the length of the grid.\n",
    "length = 3\n",
    "# define qubits on the grid.\n",
    "qubits = [cirq.GridQubit(i, j) for i in range(length) for j in range(length)]\n",
    "\n",
    "print(qubits)"
   ]
  },
  {
   "cell_type": "code",
   "execution_count": null,
   "metadata": {},
   "outputs": [],
   "source": []
  }
 ],
 "metadata": {
  "kernelspec": {
   "display_name": "cirq",
   "language": "python",
   "name": "cirq"
  },
  "language_info": {
   "codemirror_mode": {
    "name": "ipython",
    "version": 3
   },
   "file_extension": ".py",
   "mimetype": "text/x-python",
   "name": "python",
   "nbconvert_exporter": "python",
   "pygments_lexer": "ipython3",
   "version": "3.7.5"
  }
 },
 "nbformat": 4,
 "nbformat_minor": 4
}

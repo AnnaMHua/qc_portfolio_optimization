{
 "cells": [
  {
   "cell_type": "code",
   "execution_count": 1,
   "metadata": {},
   "outputs": [],
   "source": [
    "import cirq\n",
    "import numpy as np"
   ]
  },
  {
   "cell_type": "markdown",
   "metadata": {},
   "source": [
    "# The Portfolio Rebalancing Optimization using QAOA with soft constraints"
   ]
  },
  {
   "cell_type": "markdown",
   "metadata": {},
   "source": [
    "In this notebook, we will apply the QAOA algorithm to solve the portfolio optimization problem using a soft constraint\n",
    "\n",
    "\n",
    "$$\n",
    "C(z) = \\sum_i \\lambda r_i z_i - (1-\\lambda)\\sum_{ij} \\sigma_{ij} z_i z_j\n",
    "$$\n",
    "\n",
    "$$\n",
    "C_R(z) = \\sum_i T (1- \\delta())\n",
    "$$\n",
    "\n",
    "\n",
    "The soft constraint that we impose will be given \n",
    "\n",
    "$$\n",
    "H = C(z)+A(D-\\sum_i z_i)^2\n",
    "$$"
   ]
  },
  {
   "cell_type": "code",
   "execution_count": null,
   "metadata": {},
   "outputs": [],
   "source": []
  }
 ],
 "metadata": {
  "kernelspec": {
   "display_name": "cirq",
   "language": "python",
   "name": "cirq"
  },
  "language_info": {
   "codemirror_mode": {
    "name": "ipython",
    "version": 3
   },
   "file_extension": ".py",
   "mimetype": "text/x-python",
   "name": "python",
   "nbconvert_exporter": "python",
   "pygments_lexer": "ipython3",
   "version": "3.7.5"
  }
 },
 "nbformat": 4,
 "nbformat_minor": 4
}

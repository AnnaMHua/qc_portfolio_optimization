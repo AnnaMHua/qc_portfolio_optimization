{
 "cells": [
  {
   "cell_type": "code",
   "execution_count": 9,
   "metadata": {},
   "outputs": [],
   "source": [
    "import cirq\n",
    "from cirq.contrib.svg import SVGCircuit\n",
    "import sympy\n",
    "import numpy as np\n",
    "%matplotlib inline\n",
    "import matplotlib.pyplot as plt\n",
    "import networkx as nx\n",
    "import itertools"
   ]
  },
  {
   "cell_type": "code",
   "execution_count": 29,
   "metadata": {},
   "outputs": [
    {
     "name": "stderr",
     "output_type": "stream",
     "text": [
      "/home/oscar/Documents/qc_mentorship_project/env/lib/python3.7/site-packages/networkx/drawing/nx_pylab.py:579: MatplotlibDeprecationWarning: \n",
      "The iterable function was deprecated in Matplotlib 3.1 and will be removed in 3.3. Use np.iterable instead.\n",
      "  if not cb.iterable(width):\n"
     ]
    },
    {
     "data": {
      "image/png": "[encoded data removed]",
      "text/plain": [
       "<Figure size 432x288 with 1 Axes>"
      ]
     },
     "metadata": {},
     "output_type": "display_data"
    }
   ],
   "source": [
    "# Let us initialize a random graph G, with random connections\n",
    "n_random = 0\n",
    "\n",
    "\n",
    "# The total number of Nodes\n",
    "n=4\n",
    "G=nx.Graph()\n",
    "G.add_nodes_from(range(0,n))\n",
    "\n",
    "elist =[]\n",
    "for k in range(0,n):\n",
    "    n1,n2,w12 = (k,(k+1)%n,1.0)\n",
    "    \n",
    "    if(n1!=n2):\n",
    "        elist.append((n1,n2,1.0))\n",
    "G.add_weighted_edges_from(elist)\n",
    "\n",
    "\n",
    "# Add custom edges\n",
    "for k in range(0,n_random):\n",
    "    n1,n2 = np.random.randint(0,n),np.random.randint(0,n)\n",
    "    if(n1!=n2):\n",
    "        G.add_edge(n1,n2,weight=1.0)\n",
    "\n",
    "colors = ['b' for node in G.nodes()]\n",
    "pos = nx.spring_layout(G)\n",
    "default_axes = plt.axes(frameon=True)\n",
    "nx.draw_networkx(G, node_color=colors, node_size=600, alpha=.8, ax=default_axes, pos=pos)"
   ]
  },
  {
   "cell_type": "code",
   "execution_count": 71,
   "metadata": {},
   "outputs": [
    {
     "data": {
      "image/svg+xml": [
       "<svg xmlns=\"http://www.w3.org/2000/svg\" width=\"885.9519140625002\" height=\"240.0\"><line x1=\"30.0\" x2=\"855.9519140625002\" y1=\"45.0\" y2=\"45.0\" stroke=\"#1967d2\" stroke-width=\"1\" /><line x1=\"30.0\" x2=\"855.9519140625002\" y1=\"95.0\" y2=\"95.0\" stroke=\"#1967d2\" stroke-width=\"1\" /><line x1=\"30.0\" x2=\"855.9519140625002\" y1=\"145.0\" y2=\"145.0\" stroke=\"#1967d2\" stroke-width=\"1\" /><line x1=\"30.0\" x2=\"855.9519140625002\" y1=\"195.0\" y2=\"195.0\" stroke=\"#1967d2\" stroke-width=\"1\" /><line x1=\"264.28238281250003\" x2=\"522.8471484375001\" y1=\"5.0\" y2=\"5.0\" stroke=\"black\" stroke-width=\"1\" /><line x1=\"264.28238281250003\" x2=\"522.8471484375001\" y1=\"235.0\" y2=\"235.0\" stroke=\"black\" stroke-width=\"1\" /><line x1=\"192.14119140625002\" x2=\"192.14119140625002\" y1=\"45.0\" y2=\"95.0\" stroke=\"black\" stroke-width=\"3\" /><line x1=\"326.42357421875005\" x2=\"326.42357421875005\" y1=\"45.0\" y2=\"195.0\" stroke=\"black\" stroke-width=\"3\" /><line x1=\"450.7059570312501\" x2=\"450.7059570312501\" y1=\"95.0\" y2=\"145.0\" stroke=\"black\" stroke-width=\"3\" /><line x1=\"604.98833984375\" x2=\"604.98833984375\" y1=\"145.0\" y2=\"195.0\" stroke=\"black\" stroke-width=\"3\" /><line x1=\"810.0712695312502\" x2=\"810.0712695312502\" y1=\"45.0\" y2=\"195.0\" stroke=\"black\" stroke-width=\"3\" /><line x1=\"264.28238281250003\" x2=\"264.28238281250003\" y1=\"5.0\" y2=\"15.0\" stroke=\"black\" stroke-width=\"3\" /><line x1=\"522.8471484375001\" x2=\"522.8471484375001\" y1=\"5.0\" y2=\"15.0\" stroke=\"black\" stroke-width=\"3\" /><line x1=\"264.28238281250003\" x2=\"264.28238281250003\" y1=\"225.0\" y2=\"235.0\" stroke=\"black\" stroke-width=\"3\" /><line x1=\"522.8471484375001\" x2=\"522.8471484375001\" y1=\"225.0\" y2=\"235.0\" stroke=\"black\" stroke-width=\"3\" /><rect x=\"10.0\" y=\"25.0\" width=\"40\" height=\"40\" stroke=\"black\" fill=\"white\" stroke-width=\"0\" /><text x=\"30.0\" y=\"45.0\" dominant-baseline=\"middle\" text-anchor=\"middle\" font-size=\"14px\">0: </text><rect x=\"10.0\" y=\"75.0\" width=\"40\" height=\"40\" stroke=\"black\" fill=\"white\" stroke-width=\"0\" /><text x=\"30.0\" y=\"95.0\" dominant-baseline=\"middle\" text-anchor=\"middle\" font-size=\"14px\">1: </text><rect x=\"10.0\" y=\"125.0\" width=\"40\" height=\"40\" stroke=\"black\" fill=\"white\" stroke-width=\"0\" /><text x=\"30.0\" y=\"145.0\" dominant-baseline=\"middle\" text-anchor=\"middle\" font-size=\"14px\">2: </text><rect x=\"10.0\" y=\"175.0\" width=\"40\" height=\"40\" stroke=\"black\" fill=\"white\" stroke-width=\"0\" /><text x=\"30.0\" y=\"195.0\" dominant-baseline=\"middle\" text-anchor=\"middle\" font-size=\"14px\">3: </text><rect x=\"70.0\" y=\"25.0\" width=\"40\" height=\"40\" stroke=\"black\" fill=\"white\" stroke-width=\"1\" /><text x=\"90.0\" y=\"45.0\" dominant-baseline=\"middle\" text-anchor=\"middle\" font-size=\"18px\">H</text><rect x=\"70.0\" y=\"75.0\" width=\"40\" height=\"40\" stroke=\"black\" fill=\"white\" stroke-width=\"1\" /><text x=\"90.0\" y=\"95.0\" dominant-baseline=\"middle\" text-anchor=\"middle\" font-size=\"18px\">H</text><rect x=\"70.0\" y=\"125.0\" width=\"40\" height=\"40\" stroke=\"black\" fill=\"white\" stroke-width=\"1\" /><text x=\"90.0\" y=\"145.0\" dominant-baseline=\"middle\" text-anchor=\"middle\" font-size=\"18px\">H</text><rect x=\"70.0\" y=\"175.0\" width=\"40\" height=\"40\" stroke=\"black\" fill=\"white\" stroke-width=\"1\" /><text x=\"90.0\" y=\"195.0\" dominant-baseline=\"middle\" text-anchor=\"middle\" font-size=\"18px\">H</text><rect x=\"130.0\" y=\"25.0\" width=\"124.28238281250003\" height=\"40\" stroke=\"black\" fill=\"white\" stroke-width=\"1\" /><text x=\"192.14119140625002\" y=\"45.0\" dominant-baseline=\"middle\" text-anchor=\"middle\" font-size=\"14px\">ZZ</text><rect x=\"130.0\" y=\"75.0\" width=\"124.28238281250003\" height=\"40\" stroke=\"black\" fill=\"white\" stroke-width=\"1\" /><text x=\"192.14119140625002\" y=\"95.0\" dominant-baseline=\"middle\" text-anchor=\"middle\" font-size=\"14px\">ZZ^(-gamma_0)</text><rect x=\"264.28238281250003\" y=\"25.0\" width=\"124.28238281250002\" height=\"40\" stroke=\"black\" fill=\"white\" stroke-width=\"1\" /><text x=\"326.42357421875005\" y=\"45.0\" dominant-baseline=\"middle\" text-anchor=\"middle\" font-size=\"14px\">ZZ</text><rect x=\"264.28238281250003\" y=\"175.0\" width=\"124.28238281250002\" height=\"40\" stroke=\"black\" fill=\"white\" stroke-width=\"1\" /><text x=\"326.42357421875005\" y=\"195.0\" dominant-baseline=\"middle\" text-anchor=\"middle\" font-size=\"14px\">ZZ^(-gamma_0)</text><rect x=\"388.56476562500006\" y=\"75.0\" width=\"124.28238281250002\" height=\"40\" stroke=\"black\" fill=\"white\" stroke-width=\"1\" /><text x=\"450.7059570312501\" y=\"95.0\" dominant-baseline=\"middle\" text-anchor=\"middle\" font-size=\"14px\">ZZ</text><rect x=\"388.56476562500006\" y=\"125.0\" width=\"124.28238281250002\" height=\"40\" stroke=\"black\" fill=\"white\" stroke-width=\"1\" /><text x=\"450.7059570312501\" y=\"145.0\" dominant-baseline=\"middle\" text-anchor=\"middle\" font-size=\"14px\">ZZ^(-gamma_0)</text><rect x=\"542.8471484375\" y=\"125.0\" width=\"124.28238281250003\" height=\"40\" stroke=\"black\" fill=\"white\" stroke-width=\"1\" /><text x=\"604.98833984375\" y=\"145.0\" dominant-baseline=\"middle\" text-anchor=\"middle\" font-size=\"14px\">ZZ</text><rect x=\"542.8471484375\" y=\"175.0\" width=\"124.28238281250003\" height=\"40\" stroke=\"black\" fill=\"white\" stroke-width=\"1\" /><text x=\"604.98833984375\" y=\"195.0\" dominant-baseline=\"middle\" text-anchor=\"middle\" font-size=\"14px\">ZZ^(-gamma_0)</text><rect x=\"542.8471484375\" y=\"25.0\" width=\"124.28238281250003\" height=\"40\" stroke=\"black\" fill=\"white\" stroke-width=\"1\" /><text x=\"604.98833984375\" y=\"45.0\" dominant-baseline=\"middle\" text-anchor=\"middle\" font-size=\"14px\">Rx(2*b_0)</text><rect x=\"542.8471484375\" y=\"75.0\" width=\"124.28238281250003\" height=\"40\" stroke=\"black\" fill=\"white\" stroke-width=\"1\" /><text x=\"604.98833984375\" y=\"95.0\" dominant-baseline=\"middle\" text-anchor=\"middle\" font-size=\"14px\">Rx(2*b_0)</text><rect x=\"687.1295312500001\" y=\"125.0\" width=\"77.06109375000001\" height=\"40\" stroke=\"black\" fill=\"white\" stroke-width=\"1\" /><text x=\"725.6600781250002\" y=\"145.0\" dominant-baseline=\"middle\" text-anchor=\"middle\" font-size=\"14px\">Rx(2*b_0)</text><rect x=\"687.1295312500001\" y=\"175.0\" width=\"77.06109375000001\" height=\"40\" stroke=\"black\" fill=\"white\" stroke-width=\"1\" /><text x=\"725.6600781250002\" y=\"195.0\" dominant-baseline=\"middle\" text-anchor=\"middle\" font-size=\"14px\">Rx(2*b_0)</text><rect x=\"784.1906250000002\" y=\"25.0\" width=\"51.7612890625\" height=\"40\" stroke=\"black\" fill=\"white\" stroke-width=\"1\" /><text x=\"810.0712695312502\" y=\"45.0\" dominant-baseline=\"middle\" text-anchor=\"middle\" font-size=\"14px\">M('m')</text><rect x=\"784.1906250000002\" y=\"75.0\" width=\"51.7612890625\" height=\"40\" stroke=\"black\" fill=\"white\" stroke-width=\"1\" /><text x=\"810.0712695312502\" y=\"95.0\" dominant-baseline=\"middle\" text-anchor=\"middle\" font-size=\"18px\">M</text><rect x=\"784.1906250000002\" y=\"125.0\" width=\"51.7612890625\" height=\"40\" stroke=\"black\" fill=\"white\" stroke-width=\"1\" /><text x=\"810.0712695312502\" y=\"145.0\" dominant-baseline=\"middle\" text-anchor=\"middle\" font-size=\"18px\">M</text><rect x=\"784.1906250000002\" y=\"175.0\" width=\"51.7612890625\" height=\"40\" stroke=\"black\" fill=\"white\" stroke-width=\"1\" /><text x=\"810.0712695312502\" y=\"195.0\" dominant-baseline=\"middle\" text-anchor=\"middle\" font-size=\"18px\">M</text></svg>"
      ],
      "text/plain": [
       "<cirq.contrib.svg.svg.SVGCircuit at 0x7f310ca68390>"
      ]
     },
     "execution_count": 71,
     "metadata": {},
     "output_type": "execute_result"
    }
   ],
   "source": [
    "p=1\n",
    "\n",
    "# Generate a list of symbolic arguments\n",
    "beta_list = [\"b_\"+str(i) for i in range(p)]\n",
    "gamma_list = [\"gamma_\"+str(i) for i in range(p)]\n",
    "\n",
    "# Convert them to symbolic numpy objects\n",
    "betas = sympy.symbols(beta_list)\n",
    "gammas = sympy.symbols(gamma_list)\n",
    "\n",
    "# Define qubits on the grid.\n",
    "qubits = [cirq.LineQubit(i) for i in range(n)]\n",
    "#qubits = [cirq.GridQubit(i, 0) for i in range(n)]\n",
    "\n",
    "# create the first part of the circuit\n",
    "hadamard_operators = [cirq.H(qubits[i]) for i in range(len(qubits))]\n",
    "\n",
    "\n",
    "\n",
    "# The mixers\n",
    "mixer_operators = [cirq.rx(2*betas[0]).on(qubits[i]) for i in range(len(qubits))]\n",
    "\n",
    "\n",
    "quadratic_operators = []\n",
    "pk = 0\n",
    "# The quadratic terms\n",
    "for edge in G.edges():\n",
    "        k,l = edge[0],edge[1]\n",
    "        quadratic_operators.append(cirq.ZZPowGate(exponent= -gammas[0],global_shift=-0.5).on(qubits[k],qubits[l]))\n",
    "\n",
    "\n",
    "#measurements = cirq.Moment([cirq.measure(qubits[i],key=str(i)) for i in range(len(qubits))])\n",
    "measurements = cirq.measure(*qubits, key='m')\n",
    "\n",
    "# Create the circuit from this \n",
    "circuit = cirq.Circuit((hadamard_operators,quadratic_operators,mixer_operators,measurements))\n",
    "\n",
    "SVGCircuit(circuit)"
   ]
  },
  {
   "cell_type": "code",
   "execution_count": 72,
   "metadata": {},
   "outputs": [],
   "source": [
    "def linear_transform(x):\n",
    "    '''\n",
    "    This function is used to simplify some calculations.\n",
    "    \n",
    "    x: Bitstring consisting of  {0 or 1} values\n",
    "    \n",
    "    \n",
    "    mapping: 2*x-1\n",
    "    \n",
    "    returns:\n",
    "    x_prime: numpy array with entries that are -1 or 1\n",
    "    '''\n",
    "    \n",
    "    N=len(x)\n",
    "    x_prime = np.zeros(N)\n",
    "    \n",
    "    \n",
    "    for k in range(N):\n",
    "        x_prime[k] = 2*int(x[k])-1\n",
    "    \n",
    "    return x_prime\n",
    "\n",
    "\n",
    "def compute_cost(x,G):\n",
    "    '''\n",
    "    The cost of a bitstring x using the max-cut \n",
    "    cost function\n",
    "    \n",
    "    C = sum_{i,j} 1/2*(1-xi*xj)\n",
    "    \n",
    "    where xi,xj are either -1 or 1\n",
    "    \n",
    "    G: Graph object\n",
    "    x: bitstring consisting of characters that are either 0 or 1.\n",
    "    '''\n",
    "    x_prime = linear_transform(x)\n",
    "    \n",
    "    c=0.0\n",
    "    \n",
    "    for edge in G.edges():\n",
    "        k,l = edge[0],edge[1]\n",
    "        c+= 0.5*(1.0-x_prime[k]*x_prime[l])\n",
    "    \n",
    "    return c\n",
    "\n",
    "\n",
    "def expectation_value(results,G):\n",
    "    '''\n",
    "    \n",
    "    '''\n",
    "    E = 0.0 \n",
    "    count = 0\n",
    "\n",
    "    bitstrings = result.measurements['m']\n",
    "    \n",
    "    \n",
    "    for x in bitstrings:\n",
    "        Ek = compute_cost(x,G)\n",
    "        E+=Ek\n",
    "        count+=1\n",
    "    \n",
    "    E = E/count\n",
    "    \n",
    "    return E\n",
    "\n",
    "\n",
    "\n",
    "def count_instances(N,bitstrings):\n",
    "    '''\n",
    "    \n",
    "    '''\n",
    "    \n",
    "    # The dictionary to store the results\n",
    "    results = {}\n",
    "    \n",
    "    \n",
    "    # The values that can be taken by Zi\n",
    "    index = [0,1]\n",
    "    \n",
    "    keys = itertools.product(index,repeat=N)\n",
    "    \n",
    "    \n",
    "    labels = []\n",
    "    label_count = []\n",
    "    \n",
    "    for state in list(keys):\n",
    "        \n",
    "        # Convert the state to integer array\n",
    "        Z_state =  np.array([state[i] for i in range(len(state))]).astype(int)\n",
    "            \n",
    "        # label the state\n",
    "        state_label = ''.join(Z_state.astype('str'))\n",
    "            \n",
    "        state_count = 0\n",
    "            \n",
    "        for i in range(len(bitstrings)):\n",
    "                \n",
    "            # retrieve the ith-bitstring\n",
    "            xi = bitstrings[i]\n",
    "                \n",
    "            if(np.array_equal(Z_state,xi)==True):\n",
    "                state_count+=1\n",
    "            \n",
    "            \n",
    "        labels.append(state_label)\n",
    "        label_count.append(state_count)\n",
    "                \n",
    "            \n",
    "    results['labels'] = labels\n",
    "    results['counts'] = label_count\n",
    "    results['probability'] = np.array(label_count)/np.sum(np.array(label_count))\n",
    "    return results"
   ]
  },
  {
   "cell_type": "code",
   "execution_count": 73,
   "metadata": {},
   "outputs": [
    {
     "name": "stdout",
     "output_type": "stream",
     "text": [
      "Best results: beta=1.1277512089809507, gamma=1.7692307692307692, E=3.0233333333333334\n"
     ]
    }
   ],
   "source": [
    "n_repetitions = 3000\n",
    "\n",
    "resolved_params = {}\n",
    "\n",
    "\n",
    "max_E = -1e10\n",
    "best_results = None\n",
    "\n",
    "\n",
    "M = np.zeros(())\n",
    "\n",
    "for b in np.linspace(-2*np.pi,2*np.pi,40):\n",
    "    for g in np.linspace(-3.0,3.0,40):\n",
    "\n",
    "        for beta in betas:\n",
    "            resolved_params[beta] =  b\n",
    "\n",
    "        for gamma in gammas:\n",
    "            resolved_params[gamma] =  g\n",
    "\n",
    "        simulator = cirq.Simulator()\n",
    "\n",
    "        # Resolve all of the parameters\n",
    "        resolver = cirq.ParamResolver(resolved_params)\n",
    "\n",
    "        result = simulator.run(circuit, resolver,repetitions=n_repetitions)\n",
    "        \n",
    "        E_bg =expectation_value(result,G)\n",
    "        \n",
    "        if(E_bg > max_E):\n",
    "            max_E = E_bg\n",
    "            b0 = b\n",
    "            g0 = g\n",
    "            best_results = result\n",
    "            \n",
    "            \n",
    "print('Best results: beta={}, gamma={}, E={}'.format(b0,g0,max_E))"
   ]
  },
  {
   "cell_type": "code",
   "execution_count": 74,
   "metadata": {},
   "outputs": [
    {
     "data": {
      "image/png": "[encoded data removed]",
      "text/plain": [
       "<Figure size 432x288 with 1 Axes>"
      ]
     },
     "metadata": {
      "needs_background": "light"
     },
     "output_type": "display_data"
    }
   ],
   "source": [
    "E = []\n",
    "\n",
    "bitstrings = best_results.measurements['m']\n",
    "\n",
    "\n",
    "for x in bitstrings:\n",
    "    E.append(compute_cost(x,G))\n",
    "\n",
    "plt.clf()\n",
    "#plt.figure(figsize=(10,10))\n",
    "plt.hist(E,density=True)\n",
    "plt.show()"
   ]
  },
  {
   "cell_type": "code",
   "execution_count": 75,
   "metadata": {},
   "outputs": [
    {
     "data": {
      "image/png": "[encoded data removed]",
      "text/plain": [
       "<Figure size 720x720 with 1 Axes>"
      ]
     },
     "metadata": {
      "needs_background": "light"
     },
     "output_type": "display_data"
    }
   ],
   "source": [
    "circuit_result = count_instances(N=n,bitstrings= best_results.measurements['m'])\n",
    "\n",
    "plt.figure(figsize=(10,10))\n",
    "plt.bar(np.arange(len(circuit_result['labels'])), circuit_result['probability'], tick_label=circuit_result['labels'])\n",
    "plt.xticks(rotation=90)\n",
    "plt.show()"
   ]
  },
  {
   "cell_type": "code",
   "execution_count": null,
   "metadata": {},
   "outputs": [],
   "source": []
  }
 ],
 "metadata": {
  "kernelspec": {
   "display_name": "cirq",
   "language": "python",
   "name": "cirq"
  },
  "language_info": {
   "codemirror_mode": {
    "name": "ipython",
    "version": 3
   },
   "file_extension": ".py",
   "mimetype": "text/x-python",
   "name": "python",
   "nbconvert_exporter": "python",
   "pygments_lexer": "ipython3",
   "version": "3.7.5"
  }
 },
 "nbformat": 4,
 "nbformat_minor": 4
}
